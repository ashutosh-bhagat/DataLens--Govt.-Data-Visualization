{
 "cells": [
  {
   "cell_type": "markdown",
   "id": "496f79e0-2cef-47ef-b385-1f3846fc9557",
   "metadata": {},
   "source": [
    "# Economics"
   ]
  },
  {
   "cell_type": "code",
   "execution_count": 30,
   "id": "449c142a-41aa-40aa-9ccf-6c3337d89d30",
   "metadata": {},
   "outputs": [],
   "source": [
    "import pandas as pd\n",
    "import numpy as np\n",
    "import matplotlib as mp\n",
    "import seaborn as sn\n",
    "import plotly.graph_objects as go\n",
    "import plotly.express as px"
   ]
  },
  {
   "cell_type": "markdown",
   "id": "fdbeb461-2224-4f6b-9fdd-7ed08465d23d",
   "metadata": {},
   "source": [
    "## Revenue V/S Capital Allocation"
   ]
  },
  {
   "cell_type": "code",
   "execution_count": 32,
   "id": "30b75c13-27c2-4099-9c2e-15096aba53ab",
   "metadata": {},
   "outputs": [],
   "source": [
    "df7=pd.read_csv(\"Union_Budget.csv\")"
   ]
  },
  {
   "cell_type": "code",
   "execution_count": 36,
   "id": "dc791867-d3b7-4c56-92cc-08e584e65b87",
   "metadata": {},
   "outputs": [
    {
     "name": "stdout",
     "output_type": "stream",
     "text": [
      "<class 'pandas.core.frame.DataFrame'>\n",
      "RangeIndex: 496 entries, 0 to 495\n",
      "Data columns (total 16 columns):\n",
      " #   Column                               Non-Null Count  Dtype  \n",
      "---  ------                               --------------  -----  \n",
      " 0   Category                             496 non-null    object \n",
      " 1   Sl.No.                               433 non-null    object \n",
      " 2   Ministry/Department                  496 non-null    object \n",
      " 3   Scheme                               496 non-null    object \n",
      " 4   Actuals 2021-2022 Revenue            441 non-null    float64\n",
      " 5   Actuals 2021-2022 Capital            436 non-null    float64\n",
      " 6   Actuals 2021-2022 Total              441 non-null    float64\n",
      " 7   Budget Estimates 2022-2023 Revenue   441 non-null    float64\n",
      " 8   Budget Estimates 2022-2023 Capital   438 non-null    float64\n",
      " 9   Budget Estimates 2022-2023 Total     441 non-null    float64\n",
      " 10  Revised Estimates2022-2023 Revenue   441 non-null    float64\n",
      " 11  Revised Estimates 2022-2023 Capital  437 non-null    float64\n",
      " 12  Revised Estimates2022-2023 Total     441 non-null    float64\n",
      " 13  Budget Estimates2023-2024 Revenue    441 non-null    float64\n",
      " 14  Budget Estimates2023-2024 Capital    436 non-null    float64\n",
      " 15  Budget Estimates2023-2024 Total      441 non-null    float64\n",
      "dtypes: float64(12), object(4)\n",
      "memory usage: 62.1+ KB\n"
     ]
    }
   ],
   "source": [
    "df7.info()"
   ]
  },
  {
   "cell_type": "code",
   "execution_count": 44,
   "id": "836fed86-852a-4b7e-94db-f800ee073039",
   "metadata": {},
   "outputs": [
    {
     "data": {
      "text/plain": [
       "(496, 16)"
      ]
     },
     "execution_count": 44,
     "metadata": {},
     "output_type": "execute_result"
    }
   ],
   "source": [
    "df7.shape"
   ]
  },
  {
   "cell_type": "code",
   "execution_count": 46,
   "id": "96ecdaa9-911e-4c27-a4b2-3eae582c3477",
   "metadata": {},
   "outputs": [
    {
     "name": "stdout",
     "output_type": "stream",
     "text": [
      "496\n"
     ]
    }
   ],
   "source": [
    "print(len(df7))"
   ]
  },
  {
   "cell_type": "code",
   "execution_count": 48,
   "id": "9e970a2f-69a2-4232-96fc-085ebe5118a1",
   "metadata": {},
   "outputs": [
    {
     "data": {
      "text/html": [
       "<div>\n",
       "<style scoped>\n",
       "    .dataframe tbody tr th:only-of-type {\n",
       "        vertical-align: middle;\n",
       "    }\n",
       "\n",
       "    .dataframe tbody tr th {\n",
       "        vertical-align: top;\n",
       "    }\n",
       "\n",
       "    .dataframe thead th {\n",
       "        text-align: right;\n",
       "    }\n",
       "</style>\n",
       "<table border=\"1\" class=\"dataframe\">\n",
       "  <thead>\n",
       "    <tr style=\"text-align: right;\">\n",
       "      <th></th>\n",
       "      <th>Category</th>\n",
       "      <th>Sl.No.</th>\n",
       "      <th>Ministry/Department</th>\n",
       "      <th>Scheme</th>\n",
       "      <th>Actuals 2021-2022 Revenue</th>\n",
       "      <th>Actuals 2021-2022 Capital</th>\n",
       "      <th>Actuals 2021-2022 Total</th>\n",
       "      <th>Budget Estimates 2022-2023 Revenue</th>\n",
       "      <th>Budget Estimates 2022-2023 Capital</th>\n",
       "      <th>Budget Estimates 2022-2023 Total</th>\n",
       "      <th>Revised Estimates2022-2023 Revenue</th>\n",
       "      <th>Revised Estimates 2022-2023 Capital</th>\n",
       "      <th>Revised Estimates2022-2023 Total</th>\n",
       "      <th>Budget Estimates2023-2024 Revenue</th>\n",
       "      <th>Budget Estimates2023-2024 Capital</th>\n",
       "      <th>Budget Estimates2023-2024 Total</th>\n",
       "    </tr>\n",
       "  </thead>\n",
       "  <tbody>\n",
       "    <tr>\n",
       "      <th>0</th>\n",
       "      <td>Demand No. 1</td>\n",
       "      <td>NaN</td>\n",
       "      <td>Department of Agriculture and Farmers Welfare</td>\n",
       "      <td>Total</td>\n",
       "      <td>12790.24</td>\n",
       "      <td>0.0</td>\n",
       "      <td>12790.24</td>\n",
       "      <td>20472.12</td>\n",
       "      <td>0.0</td>\n",
       "      <td>20472.12</td>\n",
       "      <td>18165.61</td>\n",
       "      <td>0.0</td>\n",
       "      <td>18165.61</td>\n",
       "      <td>18894.59</td>\n",
       "      <td>0.0</td>\n",
       "      <td>18894.59</td>\n",
       "    </tr>\n",
       "    <tr>\n",
       "      <th>1</th>\n",
       "      <td>Demand No. 1</td>\n",
       "      <td>1</td>\n",
       "      <td>Department of Agriculture and Farmers Welfare</td>\n",
       "      <td>Rashtriya Krishi Vikas Yojna</td>\n",
       "      <td>0.00</td>\n",
       "      <td>0.0</td>\n",
       "      <td>0.00</td>\n",
       "      <td>1737.49</td>\n",
       "      <td>0.0</td>\n",
       "      <td>1737.49</td>\n",
       "      <td>1176.09</td>\n",
       "      <td>0.0</td>\n",
       "      <td>1176.09</td>\n",
       "      <td>1307.79</td>\n",
       "      <td>0.0</td>\n",
       "      <td>1307.79</td>\n",
       "    </tr>\n",
       "    <tr>\n",
       "      <th>2</th>\n",
       "      <td>Demand No. 1</td>\n",
       "      <td>2</td>\n",
       "      <td>Department of Agriculture and Farmers Welfare</td>\n",
       "      <td>Market Intervention Scheme and Price Support S...</td>\n",
       "      <td>0.00</td>\n",
       "      <td>0.0</td>\n",
       "      <td>0.00</td>\n",
       "      <td>251.70</td>\n",
       "      <td>0.0</td>\n",
       "      <td>251.70</td>\n",
       "      <td>244.90</td>\n",
       "      <td>0.0</td>\n",
       "      <td>244.90</td>\n",
       "      <td>0.00</td>\n",
       "      <td>0.0</td>\n",
       "      <td>0.00</td>\n",
       "    </tr>\n",
       "    <tr>\n",
       "      <th>3</th>\n",
       "      <td>Demand No. 1</td>\n",
       "      <td>3</td>\n",
       "      <td>Department of Agriculture and Farmers Welfare</td>\n",
       "      <td>National Food Security Mission</td>\n",
       "      <td>106.19</td>\n",
       "      <td>0.0</td>\n",
       "      <td>106.19</td>\n",
       "      <td>0.00</td>\n",
       "      <td>0.0</td>\n",
       "      <td>0.00</td>\n",
       "      <td>0.00</td>\n",
       "      <td>0.0</td>\n",
       "      <td>0.00</td>\n",
       "      <td>0.00</td>\n",
       "      <td>0.0</td>\n",
       "      <td>0.00</td>\n",
       "    </tr>\n",
       "    <tr>\n",
       "      <th>4</th>\n",
       "      <td>Demand No. 1</td>\n",
       "      <td>4</td>\n",
       "      <td>Department of Agriculture and Farmers Welfare</td>\n",
       "      <td>Organic Value Chain Development for North East...</td>\n",
       "      <td>4.33</td>\n",
       "      <td>0.0</td>\n",
       "      <td>4.33</td>\n",
       "      <td>0.00</td>\n",
       "      <td>0.0</td>\n",
       "      <td>0.00</td>\n",
       "      <td>0.00</td>\n",
       "      <td>0.0</td>\n",
       "      <td>0.00</td>\n",
       "      <td>0.00</td>\n",
       "      <td>0.0</td>\n",
       "      <td>0.00</td>\n",
       "    </tr>\n",
       "    <tr>\n",
       "      <th>5</th>\n",
       "      <td>Demand No. 1</td>\n",
       "      <td>5</td>\n",
       "      <td>Department of Agriculture and Farmers Welfare</td>\n",
       "      <td>National Project on Soil Health and Fertility</td>\n",
       "      <td>0.03</td>\n",
       "      <td>0.0</td>\n",
       "      <td>0.03</td>\n",
       "      <td>0.00</td>\n",
       "      <td>0.0</td>\n",
       "      <td>0.00</td>\n",
       "      <td>0.00</td>\n",
       "      <td>0.0</td>\n",
       "      <td>0.00</td>\n",
       "      <td>0.00</td>\n",
       "      <td>0.0</td>\n",
       "      <td>0.00</td>\n",
       "    </tr>\n",
       "    <tr>\n",
       "      <th>6</th>\n",
       "      <td>Demand No. 1</td>\n",
       "      <td>6</td>\n",
       "      <td>Department of Agriculture and Farmers Welfare</td>\n",
       "      <td>Rainfed Area Development and Climate Change</td>\n",
       "      <td>13.78</td>\n",
       "      <td>0.0</td>\n",
       "      <td>13.78</td>\n",
       "      <td>0.00</td>\n",
       "      <td>0.0</td>\n",
       "      <td>0.00</td>\n",
       "      <td>0.00</td>\n",
       "      <td>0.0</td>\n",
       "      <td>0.00</td>\n",
       "      <td>0.00</td>\n",
       "      <td>0.0</td>\n",
       "      <td>0.00</td>\n",
       "    </tr>\n",
       "    <tr>\n",
       "      <th>7</th>\n",
       "      <td>Demand No. 1</td>\n",
       "      <td>7</td>\n",
       "      <td>Department of Agriculture and Farmers Welfare</td>\n",
       "      <td>Paramparagat Krishi Vikas Yojana</td>\n",
       "      <td>14.96</td>\n",
       "      <td>0.0</td>\n",
       "      <td>14.96</td>\n",
       "      <td>0.00</td>\n",
       "      <td>0.0</td>\n",
       "      <td>0.00</td>\n",
       "      <td>0.00</td>\n",
       "      <td>0.0</td>\n",
       "      <td>0.00</td>\n",
       "      <td>0.00</td>\n",
       "      <td>0.0</td>\n",
       "      <td>0.00</td>\n",
       "    </tr>\n",
       "    <tr>\n",
       "      <th>8</th>\n",
       "      <td>Demand No. 1</td>\n",
       "      <td>8</td>\n",
       "      <td>Department of Agriculture and Farmers Welfare</td>\n",
       "      <td>National Project on Agro- Forestry</td>\n",
       "      <td>1.00</td>\n",
       "      <td>0.0</td>\n",
       "      <td>1.00</td>\n",
       "      <td>0.00</td>\n",
       "      <td>0.0</td>\n",
       "      <td>0.00</td>\n",
       "      <td>0.00</td>\n",
       "      <td>0.0</td>\n",
       "      <td>0.00</td>\n",
       "      <td>0.00</td>\n",
       "      <td>0.0</td>\n",
       "      <td>0.00</td>\n",
       "    </tr>\n",
       "    <tr>\n",
       "      <th>9</th>\n",
       "      <td>Demand No. 1</td>\n",
       "      <td>9</td>\n",
       "      <td>Department of Agriculture and Farmers Welfare</td>\n",
       "      <td>National Mission on Horticulture</td>\n",
       "      <td>108.53</td>\n",
       "      <td>0.0</td>\n",
       "      <td>108.53</td>\n",
       "      <td>0.00</td>\n",
       "      <td>0.0</td>\n",
       "      <td>0.00</td>\n",
       "      <td>0.00</td>\n",
       "      <td>0.0</td>\n",
       "      <td>0.00</td>\n",
       "      <td>0.00</td>\n",
       "      <td>0.0</td>\n",
       "      <td>0.00</td>\n",
       "    </tr>\n",
       "  </tbody>\n",
       "</table>\n",
       "</div>"
      ],
      "text/plain": [
       "       Category Sl.No.                            Ministry/Department  \\\n",
       "0  Demand No. 1    NaN  Department of Agriculture and Farmers Welfare   \n",
       "1  Demand No. 1      1  Department of Agriculture and Farmers Welfare   \n",
       "2  Demand No. 1      2  Department of Agriculture and Farmers Welfare   \n",
       "3  Demand No. 1      3  Department of Agriculture and Farmers Welfare   \n",
       "4  Demand No. 1      4  Department of Agriculture and Farmers Welfare   \n",
       "5  Demand No. 1      5  Department of Agriculture and Farmers Welfare   \n",
       "6  Demand No. 1      6  Department of Agriculture and Farmers Welfare   \n",
       "7  Demand No. 1      7  Department of Agriculture and Farmers Welfare   \n",
       "8  Demand No. 1      8  Department of Agriculture and Farmers Welfare   \n",
       "9  Demand No. 1      9  Department of Agriculture and Farmers Welfare   \n",
       "\n",
       "                                              Scheme  \\\n",
       "0                                              Total   \n",
       "1                       Rashtriya Krishi Vikas Yojna   \n",
       "2  Market Intervention Scheme and Price Support S...   \n",
       "3                     National Food Security Mission   \n",
       "4  Organic Value Chain Development for North East...   \n",
       "5      National Project on Soil Health and Fertility   \n",
       "6        Rainfed Area Development and Climate Change   \n",
       "7                   Paramparagat Krishi Vikas Yojana   \n",
       "8                 National Project on Agro- Forestry   \n",
       "9                   National Mission on Horticulture   \n",
       "\n",
       "   Actuals 2021-2022 Revenue  Actuals 2021-2022 Capital  \\\n",
       "0                   12790.24                        0.0   \n",
       "1                       0.00                        0.0   \n",
       "2                       0.00                        0.0   \n",
       "3                     106.19                        0.0   \n",
       "4                       4.33                        0.0   \n",
       "5                       0.03                        0.0   \n",
       "6                      13.78                        0.0   \n",
       "7                      14.96                        0.0   \n",
       "8                       1.00                        0.0   \n",
       "9                     108.53                        0.0   \n",
       "\n",
       "   Actuals 2021-2022 Total  Budget Estimates 2022-2023 Revenue  \\\n",
       "0                 12790.24                            20472.12   \n",
       "1                     0.00                             1737.49   \n",
       "2                     0.00                              251.70   \n",
       "3                   106.19                                0.00   \n",
       "4                     4.33                                0.00   \n",
       "5                     0.03                                0.00   \n",
       "6                    13.78                                0.00   \n",
       "7                    14.96                                0.00   \n",
       "8                     1.00                                0.00   \n",
       "9                   108.53                                0.00   \n",
       "\n",
       "   Budget Estimates 2022-2023 Capital  Budget Estimates 2022-2023 Total  \\\n",
       "0                                 0.0                          20472.12   \n",
       "1                                 0.0                           1737.49   \n",
       "2                                 0.0                            251.70   \n",
       "3                                 0.0                              0.00   \n",
       "4                                 0.0                              0.00   \n",
       "5                                 0.0                              0.00   \n",
       "6                                 0.0                              0.00   \n",
       "7                                 0.0                              0.00   \n",
       "8                                 0.0                              0.00   \n",
       "9                                 0.0                              0.00   \n",
       "\n",
       "   Revised Estimates2022-2023 Revenue  Revised Estimates 2022-2023 Capital  \\\n",
       "0                            18165.61                                  0.0   \n",
       "1                             1176.09                                  0.0   \n",
       "2                              244.90                                  0.0   \n",
       "3                                0.00                                  0.0   \n",
       "4                                0.00                                  0.0   \n",
       "5                                0.00                                  0.0   \n",
       "6                                0.00                                  0.0   \n",
       "7                                0.00                                  0.0   \n",
       "8                                0.00                                  0.0   \n",
       "9                                0.00                                  0.0   \n",
       "\n",
       "   Revised Estimates2022-2023 Total  Budget Estimates2023-2024 Revenue  \\\n",
       "0                          18165.61                           18894.59   \n",
       "1                           1176.09                            1307.79   \n",
       "2                            244.90                               0.00   \n",
       "3                              0.00                               0.00   \n",
       "4                              0.00                               0.00   \n",
       "5                              0.00                               0.00   \n",
       "6                              0.00                               0.00   \n",
       "7                              0.00                               0.00   \n",
       "8                              0.00                               0.00   \n",
       "9                              0.00                               0.00   \n",
       "\n",
       "   Budget Estimates2023-2024 Capital  Budget Estimates2023-2024 Total  \n",
       "0                                0.0                         18894.59  \n",
       "1                                0.0                          1307.79  \n",
       "2                                0.0                             0.00  \n",
       "3                                0.0                             0.00  \n",
       "4                                0.0                             0.00  \n",
       "5                                0.0                             0.00  \n",
       "6                                0.0                             0.00  \n",
       "7                                0.0                             0.00  \n",
       "8                                0.0                             0.00  \n",
       "9                                0.0                             0.00  "
      ]
     },
     "execution_count": 48,
     "metadata": {},
     "output_type": "execute_result"
    }
   ],
   "source": [
    "df7.head(10)"
   ]
  },
  {
   "cell_type": "code",
   "execution_count": 50,
   "id": "65923eef-4fb8-4b02-b707-709d68f7e71a",
   "metadata": {},
   "outputs": [
    {
     "data": {
      "text/plain": [
       "Category                                0\n",
       "Sl.No.                                 63\n",
       "Ministry/Department                     0\n",
       "Scheme                                  0\n",
       "Actuals 2021-2022 Revenue              55\n",
       "Actuals 2021-2022 Capital              60\n",
       "Actuals 2021-2022 Total                55\n",
       "Budget Estimates 2022-2023 Revenue     55\n",
       "Budget Estimates 2022-2023 Capital     58\n",
       "Budget Estimates 2022-2023 Total       55\n",
       "Revised Estimates2022-2023 Revenue     55\n",
       "Revised Estimates 2022-2023 Capital    59\n",
       "Revised Estimates2022-2023 Total       55\n",
       "Budget Estimates2023-2024 Revenue      55\n",
       "Budget Estimates2023-2024 Capital      60\n",
       "Budget Estimates2023-2024 Total        55\n",
       "dtype: int64"
      ]
     },
     "execution_count": 50,
     "metadata": {},
     "output_type": "execute_result"
    }
   ],
   "source": [
    "df7.isnull().sum()"
   ]
  },
  {
   "cell_type": "code",
   "execution_count": 52,
   "id": "09cae661-4e8a-49a6-9f47-73bf0bf5f937",
   "metadata": {},
   "outputs": [],
   "source": [
    "num_cols = [\n",
    "    \"Actuals 2021-2022 Revenue\", \"Actuals 2021-2022 Capital\", \"Actuals 2021-2022 Total\",\n",
    "    \"Budget Estimates 2022-2023 Revenue\", \"Budget Estimates 2022-2023 Capital\", \"Budget Estimates 2022-2023 Total\",\n",
    "    \"Revised Estimates2022-2023 Revenue\", \"Revised Estimates 2022-2023 Capital\", \"Revised Estimates2022-2023 Total\",\n",
    "    \"Budget Estimates2023-2024 Revenue\", \"Budget Estimates2023-2024 Capital\", \"Budget Estimates2023-2024 Total\"\n",
    "]\n",
    "\n",
    "# Convert to numeric (if not already) and replace missing values with column mean\n",
    "# Convert non-numeric to NaN\n",
    "df7[num_cols] = df7[num_cols].apply(pd.to_numeric, errors='coerce')  \n",
    "df7[num_cols] = df7[num_cols].fillna(df7[num_cols].mean()) "
   ]
  },
  {
   "cell_type": "code",
   "execution_count": 54,
   "id": "7cd91ac6-7fe5-45a4-97aa-df99b966d727",
   "metadata": {},
   "outputs": [
    {
     "data": {
      "text/plain": [
       "Category                                0\n",
       "Sl.No.                                 63\n",
       "Ministry/Department                     0\n",
       "Scheme                                  0\n",
       "Actuals 2021-2022 Revenue               0\n",
       "Actuals 2021-2022 Capital               0\n",
       "Actuals 2021-2022 Total                 0\n",
       "Budget Estimates 2022-2023 Revenue      0\n",
       "Budget Estimates 2022-2023 Capital      0\n",
       "Budget Estimates 2022-2023 Total        0\n",
       "Revised Estimates2022-2023 Revenue      0\n",
       "Revised Estimates 2022-2023 Capital     0\n",
       "Revised Estimates2022-2023 Total        0\n",
       "Budget Estimates2023-2024 Revenue       0\n",
       "Budget Estimates2023-2024 Capital       0\n",
       "Budget Estimates2023-2024 Total         0\n",
       "dtype: int64"
      ]
     },
     "execution_count": 54,
     "metadata": {},
     "output_type": "execute_result"
    }
   ],
   "source": [
    "df7.isnull().sum()"
   ]
  },
  {
   "cell_type": "markdown",
   "id": "ca50c8c0-1c94-49fe-8927-4289855d0358",
   "metadata": {},
   "source": [
    "### Considering All the Data"
   ]
  },
  {
   "cell_type": "code",
   "execution_count": 56,
   "id": "92f91bb9-f1d4-40e1-90e9-032f8a5881d4",
   "metadata": {},
   "outputs": [
    {
     "data": {
      "application/vnd.plotly.v1+json": {
       "config": {
        "plotlyServerURL": "https://plot.ly"
       },
       "data": [
        {
         "connector": {
          "line": {
           "color": "blue"
          }
         },
         "increasing": {
          "marker": {
           "color": "blue"
          }
         },
         "measure": [
          "relative",
          "relative",
          "relative",
          "relative"
         ],
         "name": "Revenue",
         "text": [
          "432868.79383219953",
          "506966.4025396825",
          "551929.2299319727",
          "561383.4848072564"
         ],
         "textposition": "outside",
         "type": "waterfall",
         "visible": true,
         "x": [
          "2021-2022",
          "2022-2023 (BE)",
          "2022-2023 (RE)",
          "2023-2024 (BE)"
         ],
         "y": [
          432868.79383219953,
          506966.4025396825,
          551929.2299319727,
          561383.4848072564
         ]
        },
        {
         "connector": {
          "line": {
           "color": "red"
          }
         },
         "increasing": {
          "marker": {
           "color": "red"
          }
         },
         "measure": [
          "relative",
          "relative",
          "relative",
          "relative"
         ],
         "name": "Capital",
         "text": [
          "513.1211009174311",
          "771.2686757990869",
          "858.1367505720824",
          "3836.491743119266"
         ],
         "textposition": "outside",
         "type": "waterfall",
         "visible": true,
         "x": [
          "2021-2022",
          "2022-2023 (BE)",
          "2022-2023 (RE)",
          "2023-2024 (BE)"
         ],
         "y": [
          513.1211009174311,
          771.2686757990869,
          858.1367505720824,
          3836.491743119266
         ]
        }
       ],
       "layout": {
        "autosize": true,
        "showlegend": true,
        "template": {
         "data": {
          "bar": [
           {
            "error_x": {
             "color": "#2a3f5f"
            },
            "error_y": {
             "color": "#2a3f5f"
            },
            "marker": {
             "line": {
              "color": "#E5ECF6",
              "width": 0.5
             },
             "pattern": {
              "fillmode": "overlay",
              "size": 10,
              "solidity": 0.2
             }
            },
            "type": "bar"
           }
          ],
          "barpolar": [
           {
            "marker": {
             "line": {
              "color": "#E5ECF6",
              "width": 0.5
             },
             "pattern": {
              "fillmode": "overlay",
              "size": 10,
              "solidity": 0.2
             }
            },
            "type": "barpolar"
           }
          ],
          "carpet": [
           {
            "aaxis": {
             "endlinecolor": "#2a3f5f",
             "gridcolor": "white",
             "linecolor": "white",
             "minorgridcolor": "white",
             "startlinecolor": "#2a3f5f"
            },
            "baxis": {
             "endlinecolor": "#2a3f5f",
             "gridcolor": "white",
             "linecolor": "white",
             "minorgridcolor": "white",
             "startlinecolor": "#2a3f5f"
            },
            "type": "carpet"
           }
          ],
          "choropleth": [
           {
            "colorbar": {
             "outlinewidth": 0,
             "ticks": ""
            },
            "type": "choropleth"
           }
          ],
          "contour": [
           {
            "colorbar": {
             "outlinewidth": 0,
             "ticks": ""
            },
            "colorscale": [
             [
              0,
              "#0d0887"
             ],
             [
              0.1111111111111111,
              "#46039f"
             ],
             [
              0.2222222222222222,
              "#7201a8"
             ],
             [
              0.3333333333333333,
              "#9c179e"
             ],
             [
              0.4444444444444444,
              "#bd3786"
             ],
             [
              0.5555555555555556,
              "#d8576b"
             ],
             [
              0.6666666666666666,
              "#ed7953"
             ],
             [
              0.7777777777777778,
              "#fb9f3a"
             ],
             [
              0.8888888888888888,
              "#fdca26"
             ],
             [
              1,
              "#f0f921"
             ]
            ],
            "type": "contour"
           }
          ],
          "contourcarpet": [
           {
            "colorbar": {
             "outlinewidth": 0,
             "ticks": ""
            },
            "type": "contourcarpet"
           }
          ],
          "heatmap": [
           {
            "colorbar": {
             "outlinewidth": 0,
             "ticks": ""
            },
            "colorscale": [
             [
              0,
              "#0d0887"
             ],
             [
              0.1111111111111111,
              "#46039f"
             ],
             [
              0.2222222222222222,
              "#7201a8"
             ],
             [
              0.3333333333333333,
              "#9c179e"
             ],
             [
              0.4444444444444444,
              "#bd3786"
             ],
             [
              0.5555555555555556,
              "#d8576b"
             ],
             [
              0.6666666666666666,
              "#ed7953"
             ],
             [
              0.7777777777777778,
              "#fb9f3a"
             ],
             [
              0.8888888888888888,
              "#fdca26"
             ],
             [
              1,
              "#f0f921"
             ]
            ],
            "type": "heatmap"
           }
          ],
          "heatmapgl": [
           {
            "colorbar": {
             "outlinewidth": 0,
             "ticks": ""
            },
            "colorscale": [
             [
              0,
              "#0d0887"
             ],
             [
              0.1111111111111111,
              "#46039f"
             ],
             [
              0.2222222222222222,
              "#7201a8"
             ],
             [
              0.3333333333333333,
              "#9c179e"
             ],
             [
              0.4444444444444444,
              "#bd3786"
             ],
             [
              0.5555555555555556,
              "#d8576b"
             ],
             [
              0.6666666666666666,
              "#ed7953"
             ],
             [
              0.7777777777777778,
              "#fb9f3a"
             ],
             [
              0.8888888888888888,
              "#fdca26"
             ],
             [
              1,
              "#f0f921"
             ]
            ],
            "type": "heatmapgl"
           }
          ],
          "histogram": [
           {
            "marker": {
             "pattern": {
              "fillmode": "overlay",
              "size": 10,
              "solidity": 0.2
             }
            },
            "type": "histogram"
           }
          ],
          "histogram2d": [
           {
            "colorbar": {
             "outlinewidth": 0,
             "ticks": ""
            },
            "colorscale": [
             [
              0,
              "#0d0887"
             ],
             [
              0.1111111111111111,
              "#46039f"
             ],
             [
              0.2222222222222222,
              "#7201a8"
             ],
             [
              0.3333333333333333,
              "#9c179e"
             ],
             [
              0.4444444444444444,
              "#bd3786"
             ],
             [
              0.5555555555555556,
              "#d8576b"
             ],
             [
              0.6666666666666666,
              "#ed7953"
             ],
             [
              0.7777777777777778,
              "#fb9f3a"
             ],
             [
              0.8888888888888888,
              "#fdca26"
             ],
             [
              1,
              "#f0f921"
             ]
            ],
            "type": "histogram2d"
           }
          ],
          "histogram2dcontour": [
           {
            "colorbar": {
             "outlinewidth": 0,
             "ticks": ""
            },
            "colorscale": [
             [
              0,
              "#0d0887"
             ],
             [
              0.1111111111111111,
              "#46039f"
             ],
             [
              0.2222222222222222,
              "#7201a8"
             ],
             [
              0.3333333333333333,
              "#9c179e"
             ],
             [
              0.4444444444444444,
              "#bd3786"
             ],
             [
              0.5555555555555556,
              "#d8576b"
             ],
             [
              0.6666666666666666,
              "#ed7953"
             ],
             [
              0.7777777777777778,
              "#fb9f3a"
             ],
             [
              0.8888888888888888,
              "#fdca26"
             ],
             [
              1,
              "#f0f921"
             ]
            ],
            "type": "histogram2dcontour"
           }
          ],
          "mesh3d": [
           {
            "colorbar": {
             "outlinewidth": 0,
             "ticks": ""
            },
            "type": "mesh3d"
           }
          ],
          "parcoords": [
           {
            "line": {
             "colorbar": {
              "outlinewidth": 0,
              "ticks": ""
             }
            },
            "type": "parcoords"
           }
          ],
          "pie": [
           {
            "automargin": true,
            "type": "pie"
           }
          ],
          "scatter": [
           {
            "fillpattern": {
             "fillmode": "overlay",
             "size": 10,
             "solidity": 0.2
            },
            "type": "scatter"
           }
          ],
          "scatter3d": [
           {
            "line": {
             "colorbar": {
              "outlinewidth": 0,
              "ticks": ""
             }
            },
            "marker": {
             "colorbar": {
              "outlinewidth": 0,
              "ticks": ""
             }
            },
            "type": "scatter3d"
           }
          ],
          "scattercarpet": [
           {
            "marker": {
             "colorbar": {
              "outlinewidth": 0,
              "ticks": ""
             }
            },
            "type": "scattercarpet"
           }
          ],
          "scattergeo": [
           {
            "marker": {
             "colorbar": {
              "outlinewidth": 0,
              "ticks": ""
             }
            },
            "type": "scattergeo"
           }
          ],
          "scattergl": [
           {
            "marker": {
             "colorbar": {
              "outlinewidth": 0,
              "ticks": ""
             }
            },
            "type": "scattergl"
           }
          ],
          "scattermapbox": [
           {
            "marker": {
             "colorbar": {
              "outlinewidth": 0,
              "ticks": ""
             }
            },
            "type": "scattermapbox"
           }
          ],
          "scatterpolar": [
           {
            "marker": {
             "colorbar": {
              "outlinewidth": 0,
              "ticks": ""
             }
            },
            "type": "scatterpolar"
           }
          ],
          "scatterpolargl": [
           {
            "marker": {
             "colorbar": {
              "outlinewidth": 0,
              "ticks": ""
             }
            },
            "type": "scatterpolargl"
           }
          ],
          "scatterternary": [
           {
            "marker": {
             "colorbar": {
              "outlinewidth": 0,
              "ticks": ""
             }
            },
            "type": "scatterternary"
           }
          ],
          "surface": [
           {
            "colorbar": {
             "outlinewidth": 0,
             "ticks": ""
            },
            "colorscale": [
             [
              0,
              "#0d0887"
             ],
             [
              0.1111111111111111,
              "#46039f"
             ],
             [
              0.2222222222222222,
              "#7201a8"
             ],
             [
              0.3333333333333333,
              "#9c179e"
             ],
             [
              0.4444444444444444,
              "#bd3786"
             ],
             [
              0.5555555555555556,
              "#d8576b"
             ],
             [
              0.6666666666666666,
              "#ed7953"
             ],
             [
              0.7777777777777778,
              "#fb9f3a"
             ],
             [
              0.8888888888888888,
              "#fdca26"
             ],
             [
              1,
              "#f0f921"
             ]
            ],
            "type": "surface"
           }
          ],
          "table": [
           {
            "cells": {
             "fill": {
              "color": "#EBF0F8"
             },
             "line": {
              "color": "white"
             }
            },
            "header": {
             "fill": {
              "color": "#C8D4E3"
             },
             "line": {
              "color": "white"
             }
            },
            "type": "table"
           }
          ]
         },
         "layout": {
          "annotationdefaults": {
           "arrowcolor": "#2a3f5f",
           "arrowhead": 0,
           "arrowwidth": 1
          },
          "autotypenumbers": "strict",
          "coloraxis": {
           "colorbar": {
            "outlinewidth": 0,
            "ticks": ""
           }
          },
          "colorscale": {
           "diverging": [
            [
             0,
             "#8e0152"
            ],
            [
             0.1,
             "#c51b7d"
            ],
            [
             0.2,
             "#de77ae"
            ],
            [
             0.3,
             "#f1b6da"
            ],
            [
             0.4,
             "#fde0ef"
            ],
            [
             0.5,
             "#f7f7f7"
            ],
            [
             0.6,
             "#e6f5d0"
            ],
            [
             0.7,
             "#b8e186"
            ],
            [
             0.8,
             "#7fbc41"
            ],
            [
             0.9,
             "#4d9221"
            ],
            [
             1,
             "#276419"
            ]
           ],
           "sequential": [
            [
             0,
             "#0d0887"
            ],
            [
             0.1111111111111111,
             "#46039f"
            ],
            [
             0.2222222222222222,
             "#7201a8"
            ],
            [
             0.3333333333333333,
             "#9c179e"
            ],
            [
             0.4444444444444444,
             "#bd3786"
            ],
            [
             0.5555555555555556,
             "#d8576b"
            ],
            [
             0.6666666666666666,
             "#ed7953"
            ],
            [
             0.7777777777777778,
             "#fb9f3a"
            ],
            [
             0.8888888888888888,
             "#fdca26"
            ],
            [
             1,
             "#f0f921"
            ]
           ],
           "sequentialminus": [
            [
             0,
             "#0d0887"
            ],
            [
             0.1111111111111111,
             "#46039f"
            ],
            [
             0.2222222222222222,
             "#7201a8"
            ],
            [
             0.3333333333333333,
             "#9c179e"
            ],
            [
             0.4444444444444444,
             "#bd3786"
            ],
            [
             0.5555555555555556,
             "#d8576b"
            ],
            [
             0.6666666666666666,
             "#ed7953"
            ],
            [
             0.7777777777777778,
             "#fb9f3a"
            ],
            [
             0.8888888888888888,
             "#fdca26"
            ],
            [
             1,
             "#f0f921"
            ]
           ]
          },
          "colorway": [
           "#636efa",
           "#EF553B",
           "#00cc96",
           "#ab63fa",
           "#FFA15A",
           "#19d3f3",
           "#FF6692",
           "#B6E880",
           "#FF97FF",
           "#FECB52"
          ],
          "font": {
           "color": "#2a3f5f"
          },
          "geo": {
           "bgcolor": "white",
           "lakecolor": "white",
           "landcolor": "#E5ECF6",
           "showlakes": true,
           "showland": true,
           "subunitcolor": "white"
          },
          "hoverlabel": {
           "align": "left"
          },
          "hovermode": "closest",
          "mapbox": {
           "style": "light"
          },
          "paper_bgcolor": "white",
          "plot_bgcolor": "#E5ECF6",
          "polar": {
           "angularaxis": {
            "gridcolor": "white",
            "linecolor": "white",
            "ticks": ""
           },
           "bgcolor": "#E5ECF6",
           "radialaxis": {
            "gridcolor": "white",
            "linecolor": "white",
            "ticks": ""
           }
          },
          "scene": {
           "xaxis": {
            "backgroundcolor": "#E5ECF6",
            "gridcolor": "white",
            "gridwidth": 2,
            "linecolor": "white",
            "showbackground": true,
            "ticks": "",
            "zerolinecolor": "white"
           },
           "yaxis": {
            "backgroundcolor": "#E5ECF6",
            "gridcolor": "white",
            "gridwidth": 2,
            "linecolor": "white",
            "showbackground": true,
            "ticks": "",
            "zerolinecolor": "white"
           },
           "zaxis": {
            "backgroundcolor": "#E5ECF6",
            "gridcolor": "white",
            "gridwidth": 2,
            "linecolor": "white",
            "showbackground": true,
            "ticks": "",
            "zerolinecolor": "white"
           }
          },
          "shapedefaults": {
           "line": {
            "color": "#2a3f5f"
           }
          },
          "ternary": {
           "aaxis": {
            "gridcolor": "white",
            "linecolor": "white",
            "ticks": ""
           },
           "baxis": {
            "gridcolor": "white",
            "linecolor": "white",
            "ticks": ""
           },
           "bgcolor": "#E5ECF6",
           "caxis": {
            "gridcolor": "white",
            "linecolor": "white",
            "ticks": ""
           }
          },
          "title": {
           "x": 0.05
          },
          "xaxis": {
           "automargin": true,
           "gridcolor": "white",
           "linecolor": "white",
           "ticks": "",
           "title": {
            "standoff": 15
           },
           "zerolinecolor": "white",
           "zerolinewidth": 2
          },
          "yaxis": {
           "automargin": true,
           "gridcolor": "white",
           "linecolor": "white",
           "ticks": "",
           "title": {
            "standoff": 15
           },
           "zerolinecolor": "white",
           "zerolinewidth": 2
          }
         }
        },
        "title": {
         "text": "Revenue vs. Capital Allocation (Waterfall Chart)"
        },
        "xaxis": {
         "autorange": true,
         "range": [
          -0.5,
          3.5
         ],
         "title": {
          "text": "Year"
         },
         "type": "category"
        },
        "yaxis": {
         "autorange": true,
         "range": [
          0,
          2161208.32748538
         ],
         "title": {
          "text": "Amount (in Crores)"
         },
         "type": "linear"
        }
       }
      },
      "image/png": "[encoded data removed]",
      "text/html": [
       "<div>                            <div id=\"4f25872e-a76c-4e87-aa42-2815711f3244\" class=\"plotly-graph-div\" style=\"height:525px; width:100%;\"></div>            <script type=\"text/javascript\">                require([\"plotly\"], function(Plotly) {                    window.PLOTLYENV=window.PLOTLYENV || {};                                    if (document.getElementById(\"4f25872e-a76c-4e87-aa42-2815711f3244\")) {                    Plotly.newPlot(                        \"4f25872e-a76c-4e87-aa42-2815711f3244\",                        [{\"connector\":{\"line\":{\"color\":\"blue\"}},\"increasing\":{\"marker\":{\"color\":\"blue\"}},\"measure\":[\"relative\",\"relative\",\"relative\",\"relative\"],\"name\":\"Revenue\",\"text\":[\"432868.79383219953\",\"506966.4025396825\",\"551929.2299319727\",\"561383.4848072564\"],\"textposition\":\"outside\",\"x\":[\"2021-2022\",\"2022-2023 (BE)\",\"2022-2023 (RE)\",\"2023-2024 (BE)\"],\"y\":[432868.79383219953,506966.4025396825,551929.2299319727,561383.4848072564],\"type\":\"waterfall\"},{\"connector\":{\"line\":{\"color\":\"red\"}},\"increasing\":{\"marker\":{\"color\":\"red\"}},\"measure\":[\"relative\",\"relative\",\"relative\",\"relative\"],\"name\":\"Capital\",\"text\":[\"513.1211009174311\",\"771.2686757990869\",\"858.1367505720824\",\"3836.491743119266\"],\"textposition\":\"outside\",\"x\":[\"2021-2022\",\"2022-2023 (BE)\",\"2022-2023 (RE)\",\"2023-2024 (BE)\"],\"y\":[513.1211009174311,771.2686757990869,858.1367505720824,3836.491743119266],\"type\":\"waterfall\"}],                        {\"template\":{\"data\":{\"histogram2dcontour\":[{\"type\":\"histogram2dcontour\",\"colorbar\":{\"outlinewidth\":0,\"ticks\":\"\"},\"colorscale\":[[0.0,\"#0d0887\"],[0.1111111111111111,\"#46039f\"],[0.2222222222222222,\"#7201a8\"],[0.3333333333333333,\"#9c179e\"],[0.4444444444444444,\"#bd3786\"],[0.5555555555555556,\"#d8576b\"],[0.6666666666666666,\"#ed7953\"],[0.7777777777777778,\"#fb9f3a\"],[0.8888888888888888,\"#fdca26\"],[1.0,\"#f0f921\"]]}],\"choropleth\":[{\"type\":\"choropleth\",\"colorbar\":{\"outlinewidth\":0,\"ticks\":\"\"}}],\"histogram2d\":[{\"type\":\"histogram2d\",\"colorbar\":{\"outlinewidth\":0,\"ticks\":\"\"},\"colorscale\":[[0.0,\"#0d0887\"],[0.1111111111111111,\"#46039f\"],[0.2222222222222222,\"#7201a8\"],[0.3333333333333333,\"#9c179e\"],[0.4444444444444444,\"#bd3786\"],[0.5555555555555556,\"#d8576b\"],[0.6666666666666666,\"#ed7953\"],[0.7777777777777778,\"#fb9f3a\"],[0.8888888888888888,\"#fdca26\"],[1.0,\"#f0f921\"]]}],\"heatmap\":[{\"type\":\"heatmap\",\"colorbar\":{\"outlinewidth\":0,\"ticks\":\"\"},\"colorscale\":[[0.0,\"#0d0887\"],[0.1111111111111111,\"#46039f\"],[0.2222222222222222,\"#7201a8\"],[0.3333333333333333,\"#9c179e\"],[0.4444444444444444,\"#bd3786\"],[0.5555555555555556,\"#d8576b\"],[0.6666666666666666,\"#ed7953\"],[0.7777777777777778,\"#fb9f3a\"],[0.8888888888888888,\"#fdca26\"],[1.0,\"#f0f921\"]]}],\"heatmapgl\":[{\"type\":\"heatmapgl\",\"colorbar\":{\"outlinewidth\":0,\"ticks\":\"\"},\"colorscale\":[[0.0,\"#0d0887\"],[0.1111111111111111,\"#46039f\"],[0.2222222222222222,\"#7201a8\"],[0.3333333333333333,\"#9c179e\"],[0.4444444444444444,\"#bd3786\"],[0.5555555555555556,\"#d8576b\"],[0.6666666666666666,\"#ed7953\"],[0.7777777777777778,\"#fb9f3a\"],[0.8888888888888888,\"#fdca26\"],[1.0,\"#f0f921\"]]}],\"contourcarpet\":[{\"type\":\"contourcarpet\",\"colorbar\":{\"outlinewidth\":0,\"ticks\":\"\"}}],\"contour\":[{\"type\":\"contour\",\"colorbar\":{\"outlinewidth\":0,\"ticks\":\"\"},\"colorscale\":[[0.0,\"#0d0887\"],[0.1111111111111111,\"#46039f\"],[0.2222222222222222,\"#7201a8\"],[0.3333333333333333,\"#9c179e\"],[0.4444444444444444,\"#bd3786\"],[0.5555555555555556,\"#d8576b\"],[0.6666666666666666,\"#ed7953\"],[0.7777777777777778,\"#fb9f3a\"],[0.8888888888888888,\"#fdca26\"],[1.0,\"#f0f921\"]]}],\"surface\":[{\"type\":\"surface\",\"colorbar\":{\"outlinewidth\":0,\"ticks\":\"\"},\"colorscale\":[[0.0,\"#0d0887\"],[0.1111111111111111,\"#46039f\"],[0.2222222222222222,\"#7201a8\"],[0.3333333333333333,\"#9c179e\"],[0.4444444444444444,\"#bd3786\"],[0.5555555555555556,\"#d8576b\"],[0.6666666666666666,\"#ed7953\"],[0.7777777777777778,\"#fb9f3a\"],[0.8888888888888888,\"#fdca26\"],[1.0,\"#f0f921\"]]}],\"mesh3d\":[{\"type\":\"mesh3d\",\"colorbar\":{\"outlinewidth\":0,\"ticks\":\"\"}}],\"scatter\":[{\"fillpattern\":{\"fillmode\":\"overlay\",\"size\":10,\"solidity\":0.2},\"type\":\"scatter\"}],\"parcoords\":[{\"type\":\"parcoords\",\"line\":{\"colorbar\":{\"outlinewidth\":0,\"ticks\":\"\"}}}],\"scatterpolargl\":[{\"type\":\"scatterpolargl\",\"marker\":{\"colorbar\":{\"outlinewidth\":0,\"ticks\":\"\"}}}],\"bar\":[{\"error_x\":{\"color\":\"#2a3f5f\"},\"error_y\":{\"color\":\"#2a3f5f\"},\"marker\":{\"line\":{\"color\":\"#E5ECF6\",\"width\":0.5},\"pattern\":{\"fillmode\":\"overlay\",\"size\":10,\"solidity\":0.2}},\"type\":\"bar\"}],\"scattergeo\":[{\"type\":\"scattergeo\",\"marker\":{\"colorbar\":{\"outlinewidth\":0,\"ticks\":\"\"}}}],\"scatterpolar\":[{\"type\":\"scatterpolar\",\"marker\":{\"colorbar\":{\"outlinewidth\":0,\"ticks\":\"\"}}}],\"histogram\":[{\"marker\":{\"pattern\":{\"fillmode\":\"overlay\",\"size\":10,\"solidity\":0.2}},\"type\":\"histogram\"}],\"scattergl\":[{\"type\":\"scattergl\",\"marker\":{\"colorbar\":{\"outlinewidth\":0,\"ticks\":\"\"}}}],\"scatter3d\":[{\"type\":\"scatter3d\",\"line\":{\"colorbar\":{\"outlinewidth\":0,\"ticks\":\"\"}},\"marker\":{\"colorbar\":{\"outlinewidth\":0,\"ticks\":\"\"}}}],\"scattermapbox\":[{\"type\":\"scattermapbox\",\"marker\":{\"colorbar\":{\"outlinewidth\":0,\"ticks\":\"\"}}}],\"scatterternary\":[{\"type\":\"scatterternary\",\"marker\":{\"colorbar\":{\"outlinewidth\":0,\"ticks\":\"\"}}}],\"scattercarpet\":[{\"type\":\"scattercarpet\",\"marker\":{\"colorbar\":{\"outlinewidth\":0,\"ticks\":\"\"}}}],\"carpet\":[{\"aaxis\":{\"endlinecolor\":\"#2a3f5f\",\"gridcolor\":\"white\",\"linecolor\":\"white\",\"minorgridcolor\":\"white\",\"startlinecolor\":\"#2a3f5f\"},\"baxis\":{\"endlinecolor\":\"#2a3f5f\",\"gridcolor\":\"white\",\"linecolor\":\"white\",\"minorgridcolor\":\"white\",\"startlinecolor\":\"#2a3f5f\"},\"type\":\"carpet\"}],\"table\":[{\"cells\":{\"fill\":{\"color\":\"#EBF0F8\"},\"line\":{\"color\":\"white\"}},\"header\":{\"fill\":{\"color\":\"#C8D4E3\"},\"line\":{\"color\":\"white\"}},\"type\":\"table\"}],\"barpolar\":[{\"marker\":{\"line\":{\"color\":\"#E5ECF6\",\"width\":0.5},\"pattern\":{\"fillmode\":\"overlay\",\"size\":10,\"solidity\":0.2}},\"type\":\"barpolar\"}],\"pie\":[{\"automargin\":true,\"type\":\"pie\"}]},\"layout\":{\"autotypenumbers\":\"strict\",\"colorway\":[\"#636efa\",\"#EF553B\",\"#00cc96\",\"#ab63fa\",\"#FFA15A\",\"#19d3f3\",\"#FF6692\",\"#B6E880\",\"#FF97FF\",\"#FECB52\"],\"font\":{\"color\":\"#2a3f5f\"},\"hovermode\":\"closest\",\"hoverlabel\":{\"align\":\"left\"},\"paper_bgcolor\":\"white\",\"plot_bgcolor\":\"#E5ECF6\",\"polar\":{\"bgcolor\":\"#E5ECF6\",\"angularaxis\":{\"gridcolor\":\"white\",\"linecolor\":\"white\",\"ticks\":\"\"},\"radialaxis\":{\"gridcolor\":\"white\",\"linecolor\":\"white\",\"ticks\":\"\"}},\"ternary\":{\"bgcolor\":\"#E5ECF6\",\"aaxis\":{\"gridcolor\":\"white\",\"linecolor\":\"white\",\"ticks\":\"\"},\"baxis\":{\"gridcolor\":\"white\",\"linecolor\":\"white\",\"ticks\":\"\"},\"caxis\":{\"gridcolor\":\"white\",\"linecolor\":\"white\",\"ticks\":\"\"}},\"coloraxis\":{\"colorbar\":{\"outlinewidth\":0,\"ticks\":\"\"}},\"colorscale\":{\"sequential\":[[0.0,\"#0d0887\"],[0.1111111111111111,\"#46039f\"],[0.2222222222222222,\"#7201a8\"],[0.3333333333333333,\"#9c179e\"],[0.4444444444444444,\"#bd3786\"],[0.5555555555555556,\"#d8576b\"],[0.6666666666666666,\"#ed7953\"],[0.7777777777777778,\"#fb9f3a\"],[0.8888888888888888,\"#fdca26\"],[1.0,\"#f0f921\"]],\"sequentialminus\":[[0.0,\"#0d0887\"],[0.1111111111111111,\"#46039f\"],[0.2222222222222222,\"#7201a8\"],[0.3333333333333333,\"#9c179e\"],[0.4444444444444444,\"#bd3786\"],[0.5555555555555556,\"#d8576b\"],[0.6666666666666666,\"#ed7953\"],[0.7777777777777778,\"#fb9f3a\"],[0.8888888888888888,\"#fdca26\"],[1.0,\"#f0f921\"]],\"diverging\":[[0,\"#8e0152\"],[0.1,\"#c51b7d\"],[0.2,\"#de77ae\"],[0.3,\"#f1b6da\"],[0.4,\"#fde0ef\"],[0.5,\"#f7f7f7\"],[0.6,\"#e6f5d0\"],[0.7,\"#b8e186\"],[0.8,\"#7fbc41\"],[0.9,\"#4d9221\"],[1,\"#276419\"]]},\"xaxis\":{\"gridcolor\":\"white\",\"linecolor\":\"white\",\"ticks\":\"\",\"title\":{\"standoff\":15},\"zerolinecolor\":\"white\",\"automargin\":true,\"zerolinewidth\":2},\"yaxis\":{\"gridcolor\":\"white\",\"linecolor\":\"white\",\"ticks\":\"\",\"title\":{\"standoff\":15},\"zerolinecolor\":\"white\",\"automargin\":true,\"zerolinewidth\":2},\"scene\":{\"xaxis\":{\"backgroundcolor\":\"#E5ECF6\",\"gridcolor\":\"white\",\"linecolor\":\"white\",\"showbackground\":true,\"ticks\":\"\",\"zerolinecolor\":\"white\",\"gridwidth\":2},\"yaxis\":{\"backgroundcolor\":\"#E5ECF6\",\"gridcolor\":\"white\",\"linecolor\":\"white\",\"showbackground\":true,\"ticks\":\"\",\"zerolinecolor\":\"white\",\"gridwidth\":2},\"zaxis\":{\"backgroundcolor\":\"#E5ECF6\",\"gridcolor\":\"white\",\"linecolor\":\"white\",\"showbackground\":true,\"ticks\":\"\",\"zerolinecolor\":\"white\",\"gridwidth\":2}},\"shapedefaults\":{\"line\":{\"color\":\"#2a3f5f\"}},\"annotationdefaults\":{\"arrowcolor\":\"#2a3f5f\",\"arrowhead\":0,\"arrowwidth\":1},\"geo\":{\"bgcolor\":\"white\",\"landcolor\":\"#E5ECF6\",\"subunitcolor\":\"white\",\"showland\":true,\"showlakes\":true,\"lakecolor\":\"white\"},\"title\":{\"x\":0.05},\"mapbox\":{\"style\":\"light\"}}},\"title\":{\"text\":\"Revenue vs. Capital Allocation (Waterfall Chart)\"},\"xaxis\":{\"title\":{\"text\":\"Year\"}},\"yaxis\":{\"title\":{\"text\":\"Amount (in Crores)\"}},\"showlegend\":true},                        {\"responsive\": true}                    ).then(function(){\n",
       "                            \n",
       "var gd = document.getElementById('4f25872e-a76c-4e87-aa42-2815711f3244');\n",
       "var x = new MutationObserver(function (mutations, observer) {{\n",
       "        var display = window.getComputedStyle(gd).display;\n",
       "        if (!display || display === 'none') {{\n",
       "            console.log([gd, 'removed!']);\n",
       "            Plotly.purge(gd);\n",
       "            observer.disconnect();\n",
       "        }}\n",
       "}});\n",
       "\n",
       "// Listen for the removal of the full notebook cells\n",
       "var notebookContainer = gd.closest('#notebook-container');\n",
       "if (notebookContainer) {{\n",
       "    x.observe(notebookContainer, {childList: true});\n",
       "}}\n",
       "\n",
       "// Listen for the clearing of the current output cell\n",
       "var outputEl = gd.closest('.output');\n",
       "if (outputEl) {{\n",
       "    x.observe(outputEl, {childList: true});\n",
       "}}\n",
       "\n",
       "                        })                };                });            </script>        </div>"
      ]
     },
     "metadata": {},
     "output_type": "display_data"
    }
   ],
   "source": [
    "\n",
    "years = [\"2021-2022\", \"2022-2023 (BE)\", \"2022-2023 (RE)\", \"2023-2024 (BE)\"]\n",
    "\n",
    "revenue_values = [\n",
    "    df7[\"Actuals 2021-2022 Revenue\"].sum(),\n",
    "    df7[\"Budget Estimates 2022-2023 Revenue\"].sum(),\n",
    "    df7[\"Revised Estimates2022-2023 Revenue\"].sum(),\n",
    "    df7[\"Budget Estimates2023-2024 Revenue\"].sum()\n",
    "]\n",
    "capital_values = [\n",
    "    df7[\"Actuals 2021-2022 Capital\"].sum(),\n",
    "    df7[\"Budget Estimates 2022-2023 Capital\"].sum(),\n",
    "    df7[\"Revised Estimates 2022-2023 Capital\"].sum(),\n",
    "    df7[\"Budget Estimates2023-2024 Capital\"].sum()\n",
    "]\n",
    "fig = go.Figure()\n",
    "\n",
    "# Add Revenue\n",
    "# waterfall is a already present graph in plotly.graph_objects\n",
    "fig.add_trace(go.Waterfall(\n",
    "    name=\"Revenue\",\n",
    "    x=years,\n",
    "    y=revenue_values,\n",
    "    measure=[\"relative\"] * len(years),\n",
    "    text=revenue_values,\n",
    "    textposition=\"outside\",\n",
    "    connector={\"line\": {\"color\": \"blue\"}},\n",
    "    increasing={\"marker\": {\"color\": \"blue\"}}\n",
    "))\n",
    "\n",
    "# Add Capital\n",
    "fig.add_trace(go.Waterfall(\n",
    "    name=\"Capital\",\n",
    "    x=years,\n",
    "    y=capital_values,\n",
    "    measure=[\"relative\"] * len(years),\n",
    "    text=capital_values,\n",
    "    textposition=\"outside\",\n",
    "    connector={\"line\": {\"color\": \"red\"}},\n",
    "    increasing={\"marker\": {\"color\": \"red\"}}\n",
    "))\n",
    "\n",
    "# Customize layout\n",
    "fig.update_layout(\n",
    "    title=\"Revenue vs. Capital Allocation (Waterfall Chart)\",\n",
    "    xaxis_title=\"Year\",\n",
    "    yaxis_title=\"Amount (in Crores)\",\n",
    "    showlegend=True\n",
    ")\n",
    "\n",
    "\n",
    "fig.show()\n"
   ]
  },
  {
   "cell_type": "markdown",
   "id": "a935f528-f25e-4546-b5df-a63c2a34f3c8",
   "metadata": {},
   "source": [
    "## Ministry Wise Budget Allocation"
   ]
  },
  {
   "cell_type": "markdown",
   "id": "ad6fa0ce-e6a3-4c93-8aca-623516211090",
   "metadata": {},
   "source": [
    "### Considering Budget Estimates2023-2024 Revenue and Budget Estimates2023-2024 Capital"
   ]
  },
  {
   "cell_type": "code",
   "execution_count": 61,
   "id": "beed20e9-cfa8-400d-bb61-0f80732ffa76",
   "metadata": {},
   "outputs": [
    {
     "data": {
      "application/vnd.plotly.v1+json": {
       "config": {
        "plotlyServerURL": "https://plot.ly"
       },
       "data": [
        {
         "branchvalues": "total",
         "customdata": [
          [
           2.451926910299003
          ],
          [
           118.27680856335793
          ],
          [
           12752.377422352112
          ],
          [
           460.4209101722246
          ],
          [
           13.79938793879388
          ],
          [
           1.5
          ],
          [
           15509.565202418396
          ],
          [
           70.17426736357193
          ],
          [
           10046.765920274018
          ],
          [
           336.160002082156
          ],
          [
           14354.691045161202
          ],
          [
           5499.9635014234545
          ],
          [
           2258.6999480390946
          ],
          [
           367.8826071329831
          ],
          [
           43.28653281096963
          ],
          [
           19449.00323321254
          ],
          [
           8956.639279209941
          ],
          [
           147.7592190889371
          ],
          [
           7181.034291350455
          ],
          [
           698.174115755627
          ],
          [
           159126.22
          ],
          [
           108.93650793650794
          ],
          [
           38.961571520205254
          ],
          [
           6.881322404371585
          ],
          [
           37.96858174412146
          ],
          [
           339.3114754098361
          ],
          [
           563.6631847295649
          ],
          [
           84.01258278145696
          ],
          [
           98.42958407147809
          ],
          [
           4162.01
          ],
          [
           1630.5293238510021
          ],
          [
           2706.3831390280666
          ],
          [
           33.58591373439273
          ],
          [
           550.9924906132666
          ],
          [
           161.2
          ],
          [
           137.0232775119617
          ],
          [
           2042.41
          ],
          [
           376.06833261044676
          ],
          [
           169.20859080633005
          ],
          [
           4758.050097340214
          ],
          [
           220.8954237543279
          ],
          [
           57995.417271119906
          ]
         ],
         "domain": {
          "x": [
           0,
           1
          ],
          "y": [
           0,
           1
          ]
         },
         "hovertemplate": "labels=%{label}<br>Total Budget 2023-2024_sum=%{value}<br>parent=%{parent}<br>id=%{id}<br>Total Budget 2023-2024=%{color}<extra></extra>",
         "ids": [
          "Ministry-Wise Budget/Chandigarh",
          "Ministry-Wise Budget/Department of Agricultural Research and Education",
          "Ministry-Wise Budget/Department of Agriculture and Farmers Welfare",
          "Ministry-Wise Budget/Department of Animal Husbandry and Dairying",
          "Ministry-Wise Budget/Department of Commerce",
          "Ministry-Wise Budget/Department of Consumer Affairs",
          "Ministry-Wise Budget/Department of Drinking Water and Sanitation",
          "Ministry-Wise Budget/Department of Empowerment of Persons with Disabilities",
          "Ministry-Wise Budget/Department of Fertilisers",
          "Ministry-Wise Budget/Department of Fisheries",
          "Ministry-Wise Budget/Department of Food and Public Distribution",
          "Ministry-Wise Budget/Department of Health and Family Welfare",
          "Ministry-Wise Budget/Department of Higher Education",
          "Ministry-Wise Budget/Department of Land Resources",
          "Ministry-Wise Budget/Department of Pharmaceuticals",
          "Ministry-Wise Budget/Department of Rural Development",
          "Ministry-Wise Budget/Department of School Education and Literacy",
          "Ministry-Wise Budget/Department of Science and Technology",
          "Ministry-Wise Budget/Department of Social Justice and Empowerment",
          "Ministry-Wise Budget/Department of Telecommunications",
          "Ministry-Wise Budget/Grand Total",
          "Ministry-Wise Budget/Ministry of Ayush",
          "Ministry-Wise Budget/Ministry of Coal",
          "Ministry-Wise Budget/Ministry of Cooperation",
          "Ministry-Wise Budget/Ministry of Culture",
          "Ministry-Wise Budget/Ministry of Development of North Eastern Region",
          "Ministry-Wise Budget/Ministry of Electronics and Information Technology",
          "Ministry-Wise Budget/Ministry of Environment, Forests and Climate Change",
          "Ministry-Wise Budget/Ministry of Food Processing Industries",
          "Ministry-Wise Budget/Ministry of Housing and Urban Affairs",
          "Ministry-Wise Budget/Ministry of Labour and Employment",
          "Ministry-Wise Budget/Ministry of Micro, Small and Medium Enterprises",
          "Ministry-Wise Budget/Ministry of Mines",
          "Ministry-Wise Budget/Ministry of New and Renewable Energy",
          "Ministry-Wise Budget/Ministry of Panchayati Raj",
          "Ministry-Wise Budget/Ministry of Petroleum and Natural Gas",
          "Ministry-Wise Budget/Ministry of Power",
          "Ministry-Wise Budget/Ministry of Skill Development and Entrepreneurship",
          "Ministry-Wise Budget/Ministry of Textiles",
          "Ministry-Wise Budget/Ministry of Women and Child Development",
          "Ministry-Wise Budget/Ministry of Youth Affairs and Sports",
          "Ministry-Wise Budget"
         ],
         "labels": [
          "Chandigarh",
          "Department of Agricultural Research and Education",
          "Department of Agriculture and Farmers Welfare",
          "Department of Animal Husbandry and Dairying",
          "Department of Commerce",
          "Department of Consumer Affairs",
          "Department of Drinking Water and Sanitation",
          "Department of Empowerment of Persons with Disabilities",
          "Department of Fertilisers",
          "Department of Fisheries",
          "Department of Food and Public Distribution",
          "Department of Health and Family Welfare",
          "Department of Higher Education",
          "Department of Land Resources",
          "Department of Pharmaceuticals",
          "Department of Rural Development",
          "Department of School Education and Literacy",
          "Department of Science and Technology",
          "Department of Social Justice and Empowerment",
          "Department of Telecommunications",
          "Grand Total",
          "Ministry of Ayush",
          "Ministry of Coal",
          "Ministry of Cooperation",
          "Ministry of Culture",
          "Ministry of Development of North Eastern Region",
          "Ministry of Electronics and Information Technology",
          "Ministry of Environment, Forests and Climate Change",
          "Ministry of Food Processing Industries",
          "Ministry of Housing and Urban Affairs",
          "Ministry of Labour and Employment",
          "Ministry of Micro, Small and Medium Enterprises",
          "Ministry of Mines",
          "Ministry of New and Renewable Energy",
          "Ministry of Panchayati Raj",
          "Ministry of Petroleum and Natural Gas",
          "Ministry of Power",
          "Ministry of Skill Development and Entrepreneurship",
          "Ministry of Textiles",
          "Ministry of Women and Child Development",
          "Ministry of Youth Affairs and Sports",
          "Ministry-Wise Budget"
         ],
         "marker": {
          "coloraxis": "coloraxis",
          "colors": [
           2.451926910299003,
           118.27680856335793,
           12752.377422352112,
           460.4209101722246,
           13.79938793879388,
           1.5,
           15509.565202418396,
           70.17426736357193,
           10046.765920274018,
           336.160002082156,
           14354.691045161202,
           5499.9635014234545,
           2258.6999480390946,
           367.8826071329831,
           43.28653281096963,
           19449.00323321254,
           8956.639279209941,
           147.7592190889371,
           7181.034291350455,
           698.174115755627,
           159126.22,
           108.93650793650794,
           38.961571520205254,
           6.881322404371585,
           37.96858174412146,
           339.3114754098361,
           563.6631847295649,
           84.01258278145696,
           98.42958407147809,
           4162.01,
           1630.5293238510021,
           2706.3831390280666,
           33.58591373439273,
           550.9924906132666,
           161.2,
           137.0232775119617,
           2042.41,
           376.06833261044676,
           169.20859080633005,
           4758.050097340214,
           220.8954237543279,
           57995.417271119906
          ]
         },
         "name": "",
         "parents": [
          "Ministry-Wise Budget",
          "Ministry-Wise Budget",
          "Ministry-Wise Budget",
          "Ministry-Wise Budget",
          "Ministry-Wise Budget",
          "Ministry-Wise Budget",
          "Ministry-Wise Budget",
          "Ministry-Wise Budget",
          "Ministry-Wise Budget",
          "Ministry-Wise Budget",
          "Ministry-Wise Budget",
          "Ministry-Wise Budget",
          "Ministry-Wise Budget",
          "Ministry-Wise Budget",
          "Ministry-Wise Budget",
          "Ministry-Wise Budget",
          "Ministry-Wise Budget",
          "Ministry-Wise Budget",
          "Ministry-Wise Budget",
          "Ministry-Wise Budget",
          "Ministry-Wise Budget",
          "Ministry-Wise Budget",
          "Ministry-Wise Budget",
          "Ministry-Wise Budget",
          "Ministry-Wise Budget",
          "Ministry-Wise Budget",
          "Ministry-Wise Budget",
          "Ministry-Wise Budget",
          "Ministry-Wise Budget",
          "Ministry-Wise Budget",
          "Ministry-Wise Budget",
          "Ministry-Wise Budget",
          "Ministry-Wise Budget",
          "Ministry-Wise Budget",
          "Ministry-Wise Budget",
          "Ministry-Wise Budget",
          "Ministry-Wise Budget",
          "Ministry-Wise Budget",
          "Ministry-Wise Budget",
          "Ministry-Wise Budget",
          "Ministry-Wise Budget",
          ""
         ],
         "root": {
          "color": "white"
         },
         "type": "treemap",
         "values": [
          6.02,
          403.58,
          37789.18,
          1631.01,
          44.44,
          3,
          33509.8,
          225.76,
          44586.72,
          672.38,
          37386.96,
          24862.059999999998,
          8083,
          795.74,
          102.1,
          60518.23,
          25752.02,
          461,
          20692.88,
          2581.3,
          159126.22,
          252,
          93.54,
          18.3,
          108.02,
          976,
          2754.08,
          377.5,
          259.66,
          8324.02,
          4128.38,
          7364.7,
          70.48,
          1598,
          322.4,
          300.96,
          4084.82,
          968.34,
          530.8,
          10076,
          664.3000000000001,
          502505.7
         ]
        }
       ],
       "layout": {
        "autosize": true,
        "coloraxis": {
         "colorbar": {
          "title": {
           "text": "Total Budget 2023-2024"
          }
         },
         "colorscale": [
          [
           0,
           "rgb(247,251,255)"
          ],
          [
           0.125,
           "rgb(222,235,247)"
          ],
          [
           0.25,
           "rgb(198,219,239)"
          ],
          [
           0.375,
           "rgb(158,202,225)"
          ],
          [
           0.5,
           "rgb(107,174,214)"
          ],
          [
           0.625,
           "rgb(66,146,198)"
          ],
          [
           0.75,
           "rgb(33,113,181)"
          ],
          [
           0.875,
           "rgb(8,81,156)"
          ],
          [
           1,
           "rgb(8,48,107)"
          ]
         ]
        },
        "legend": {
         "tracegroupgap": 0
        },
        "template": {
         "data": {
          "bar": [
           {
            "error_x": {
             "color": "#2a3f5f"
            },
            "error_y": {
             "color": "#2a3f5f"
            },
            "marker": {
             "line": {
              "color": "#E5ECF6",
              "width": 0.5
             },
             "pattern": {
              "fillmode": "overlay",
              "size": 10,
              "solidity": 0.2
             }
            },
            "type": "bar"
           }
          ],
          "barpolar": [
           {
            "marker": {
             "line": {
              "color": "#E5ECF6",
              "width": 0.5
             },
             "pattern": {
              "fillmode": "overlay",
              "size": 10,
              "solidity": 0.2
             }
            },
            "type": "barpolar"
           }
          ],
          "carpet": [
           {
            "aaxis": {
             "endlinecolor": "#2a3f5f",
             "gridcolor": "white",
             "linecolor": "white",
             "minorgridcolor": "white",
             "startlinecolor": "#2a3f5f"
            },
            "baxis": {
             "endlinecolor": "#2a3f5f",
             "gridcolor": "white",
             "linecolor": "white",
             "minorgridcolor": "white",
             "startlinecolor": "#2a3f5f"
            },
            "type": "carpet"
           }
          ],
          "choropleth": [
           {
            "colorbar": {
             "outlinewidth": 0,
             "ticks": ""
            },
            "type": "choropleth"
           }
          ],
          "contour": [
           {
            "colorbar": {
             "outlinewidth": 0,
             "ticks": ""
            },
            "colorscale": [
             [
              0,
              "#0d0887"
             ],
             [
              0.1111111111111111,
              "#46039f"
             ],
             [
              0.2222222222222222,
              "#7201a8"
             ],
             [
              0.3333333333333333,
              "#9c179e"
             ],
             [
              0.4444444444444444,
              "#bd3786"
             ],
             [
              0.5555555555555556,
              "#d8576b"
             ],
             [
              0.6666666666666666,
              "#ed7953"
             ],
             [
              0.7777777777777778,
              "#fb9f3a"
             ],
             [
              0.8888888888888888,
              "#fdca26"
             ],
             [
              1,
              "#f0f921"
             ]
            ],
            "type": "contour"
           }
          ],
          "contourcarpet": [
           {
            "colorbar": {
             "outlinewidth": 0,
             "ticks": ""
            },
            "type": "contourcarpet"
           }
          ],
          "heatmap": [
           {
            "colorbar": {
             "outlinewidth": 0,
             "ticks": ""
            },
            "colorscale": [
             [
              0,
              "#0d0887"
             ],
             [
              0.1111111111111111,
              "#46039f"
             ],
             [
              0.2222222222222222,
              "#7201a8"
             ],
             [
              0.3333333333333333,
              "#9c179e"
             ],
             [
              0.4444444444444444,
              "#bd3786"
             ],
             [
              0.5555555555555556,
              "#d8576b"
             ],
             [
              0.6666666666666666,
              "#ed7953"
             ],
             [
              0.7777777777777778,
              "#fb9f3a"
             ],
             [
              0.8888888888888888,
              "#fdca26"
             ],
             [
              1,
              "#f0f921"
             ]
            ],
            "type": "heatmap"
           }
          ],
          "heatmapgl": [
           {
            "colorbar": {
             "outlinewidth": 0,
             "ticks": ""
            },
            "colorscale": [
             [
              0,
              "#0d0887"
             ],
             [
              0.1111111111111111,
              "#46039f"
             ],
             [
              0.2222222222222222,
              "#7201a8"
             ],
             [
              0.3333333333333333,
              "#9c179e"
             ],
             [
              0.4444444444444444,
              "#bd3786"
             ],
             [
              0.5555555555555556,
              "#d8576b"
             ],
             [
              0.6666666666666666,
              "#ed7953"
             ],
             [
              0.7777777777777778,
              "#fb9f3a"
             ],
             [
              0.8888888888888888,
              "#fdca26"
             ],
             [
              1,
              "#f0f921"
             ]
            ],
            "type": "heatmapgl"
           }
          ],
          "histogram": [
           {
            "marker": {
             "pattern": {
              "fillmode": "overlay",
              "size": 10,
              "solidity": 0.2
             }
            },
            "type": "histogram"
           }
          ],
          "histogram2d": [
           {
            "colorbar": {
             "outlinewidth": 0,
             "ticks": ""
            },
            "colorscale": [
             [
              0,
              "#0d0887"
             ],
             [
              0.1111111111111111,
              "#46039f"
             ],
             [
              0.2222222222222222,
              "#7201a8"
             ],
             [
              0.3333333333333333,
              "#9c179e"
             ],
             [
              0.4444444444444444,
              "#bd3786"
             ],
             [
              0.5555555555555556,
              "#d8576b"
             ],
             [
              0.6666666666666666,
              "#ed7953"
             ],
             [
              0.7777777777777778,
              "#fb9f3a"
             ],
             [
              0.8888888888888888,
              "#fdca26"
             ],
             [
              1,
              "#f0f921"
             ]
            ],
            "type": "histogram2d"
           }
          ],
          "histogram2dcontour": [
           {
            "colorbar": {
             "outlinewidth": 0,
             "ticks": ""
            },
            "colorscale": [
             [
              0,
              "#0d0887"
             ],
             [
              0.1111111111111111,
              "#46039f"
             ],
             [
              0.2222222222222222,
              "#7201a8"
             ],
             [
              0.3333333333333333,
              "#9c179e"
             ],
             [
              0.4444444444444444,
              "#bd3786"
             ],
             [
              0.5555555555555556,
              "#d8576b"
             ],
             [
              0.6666666666666666,
              "#ed7953"
             ],
             [
              0.7777777777777778,
              "#fb9f3a"
             ],
             [
              0.8888888888888888,
              "#fdca26"
             ],
             [
              1,
              "#f0f921"
             ]
            ],
            "type": "histogram2dcontour"
           }
          ],
          "mesh3d": [
           {
            "colorbar": {
             "outlinewidth": 0,
             "ticks": ""
            },
            "type": "mesh3d"
           }
          ],
          "parcoords": [
           {
            "line": {
             "colorbar": {
              "outlinewidth": 0,
              "ticks": ""
             }
            },
            "type": "parcoords"
           }
          ],
          "pie": [
           {
            "automargin": true,
            "type": "pie"
           }
          ],
          "scatter": [
           {
            "fillpattern": {
             "fillmode": "overlay",
             "size": 10,
             "solidity": 0.2
            },
            "type": "scatter"
           }
          ],
          "scatter3d": [
           {
            "line": {
             "colorbar": {
              "outlinewidth": 0,
              "ticks": ""
             }
            },
            "marker": {
             "colorbar": {
              "outlinewidth": 0,
              "ticks": ""
             }
            },
            "type": "scatter3d"
           }
          ],
          "scattercarpet": [
           {
            "marker": {
             "colorbar": {
              "outlinewidth": 0,
              "ticks": ""
             }
            },
            "type": "scattercarpet"
           }
          ],
          "scattergeo": [
           {
            "marker": {
             "colorbar": {
              "outlinewidth": 0,
              "ticks": ""
             }
            },
            "type": "scattergeo"
           }
          ],
          "scattergl": [
           {
            "marker": {
             "colorbar": {
              "outlinewidth": 0,
              "ticks": ""
             }
            },
            "type": "scattergl"
           }
          ],
          "scattermapbox": [
           {
            "marker": {
             "colorbar": {
              "outlinewidth": 0,
              "ticks": ""
             }
            },
            "type": "scattermapbox"
           }
          ],
          "scatterpolar": [
           {
            "marker": {
             "colorbar": {
              "outlinewidth": 0,
              "ticks": ""
             }
            },
            "type": "scatterpolar"
           }
          ],
          "scatterpolargl": [
           {
            "marker": {
             "colorbar": {
              "outlinewidth": 0,
              "ticks": ""
             }
            },
            "type": "scatterpolargl"
           }
          ],
          "scatterternary": [
           {
            "marker": {
             "colorbar": {
              "outlinewidth": 0,
              "ticks": ""
             }
            },
            "type": "scatterternary"
           }
          ],
          "surface": [
           {
            "colorbar": {
             "outlinewidth": 0,
             "ticks": ""
            },
            "colorscale": [
             [
              0,
              "#0d0887"
             ],
             [
              0.1111111111111111,
              "#46039f"
             ],
             [
              0.2222222222222222,
              "#7201a8"
             ],
             [
              0.3333333333333333,
              "#9c179e"
             ],
             [
              0.4444444444444444,
              "#bd3786"
             ],
             [
              0.5555555555555556,
              "#d8576b"
             ],
             [
              0.6666666666666666,
              "#ed7953"
             ],
             [
              0.7777777777777778,
              "#fb9f3a"
             ],
             [
              0.8888888888888888,
              "#fdca26"
             ],
             [
              1,
              "#f0f921"
             ]
            ],
            "type": "surface"
           }
          ],
          "table": [
           {
            "cells": {
             "fill": {
              "color": "#EBF0F8"
             },
             "line": {
              "color": "white"
             }
            },
            "header": {
             "fill": {
              "color": "#C8D4E3"
             },
             "line": {
              "color": "white"
             }
            },
            "type": "table"
           }
          ]
         },
         "layout": {
          "annotationdefaults": {
           "arrowcolor": "#2a3f5f",
           "arrowhead": 0,
           "arrowwidth": 1
          },
          "autotypenumbers": "strict",
          "coloraxis": {
           "colorbar": {
            "outlinewidth": 0,
            "ticks": ""
           }
          },
          "colorscale": {
           "diverging": [
            [
             0,
             "#8e0152"
            ],
            [
             0.1,
             "#c51b7d"
            ],
            [
             0.2,
             "#de77ae"
            ],
            [
             0.3,
             "#f1b6da"
            ],
            [
             0.4,
             "#fde0ef"
            ],
            [
             0.5,
             "#f7f7f7"
            ],
            [
             0.6,
             "#e6f5d0"
            ],
            [
             0.7,
             "#b8e186"
            ],
            [
             0.8,
             "#7fbc41"
            ],
            [
             0.9,
             "#4d9221"
            ],
            [
             1,
             "#276419"
            ]
           ],
           "sequential": [
            [
             0,
             "#0d0887"
            ],
            [
             0.1111111111111111,
             "#46039f"
            ],
            [
             0.2222222222222222,
             "#7201a8"
            ],
            [
             0.3333333333333333,
             "#9c179e"
            ],
            [
             0.4444444444444444,
             "#bd3786"
            ],
            [
             0.5555555555555556,
             "#d8576b"
            ],
            [
             0.6666666666666666,
             "#ed7953"
            ],
            [
             0.7777777777777778,
             "#fb9f3a"
            ],
            [
             0.8888888888888888,
             "#fdca26"
            ],
            [
             1,
             "#f0f921"
            ]
           ],
           "sequentialminus": [
            [
             0,
             "#0d0887"
            ],
            [
             0.1111111111111111,
             "#46039f"
            ],
            [
             0.2222222222222222,
             "#7201a8"
            ],
            [
             0.3333333333333333,
             "#9c179e"
            ],
            [
             0.4444444444444444,
             "#bd3786"
            ],
            [
             0.5555555555555556,
             "#d8576b"
            ],
            [
             0.6666666666666666,
             "#ed7953"
            ],
            [
             0.7777777777777778,
             "#fb9f3a"
            ],
            [
             0.8888888888888888,
             "#fdca26"
            ],
            [
             1,
             "#f0f921"
            ]
           ]
          },
          "colorway": [
           "#636efa",
           "#EF553B",
           "#00cc96",
           "#ab63fa",
           "#FFA15A",
           "#19d3f3",
           "#FF6692",
           "#B6E880",
           "#FF97FF",
           "#FECB52"
          ],
          "font": {
           "color": "#2a3f5f"
          },
          "geo": {
           "bgcolor": "white",
           "lakecolor": "white",
           "landcolor": "#E5ECF6",
           "showlakes": true,
           "showland": true,
           "subunitcolor": "white"
          },
          "hoverlabel": {
           "align": "left"
          },
          "hovermode": "closest",
          "mapbox": {
           "style": "light"
          },
          "paper_bgcolor": "white",
          "plot_bgcolor": "#E5ECF6",
          "polar": {
           "angularaxis": {
            "gridcolor": "white",
            "linecolor": "white",
            "ticks": ""
           },
           "bgcolor": "#E5ECF6",
           "radialaxis": {
            "gridcolor": "white",
            "linecolor": "white",
            "ticks": ""
           }
          },
          "scene": {
           "xaxis": {
            "backgroundcolor": "#E5ECF6",
            "gridcolor": "white",
            "gridwidth": 2,
            "linecolor": "white",
            "showbackground": true,
            "ticks": "",
            "zerolinecolor": "white"
           },
           "yaxis": {
            "backgroundcolor": "#E5ECF6",
            "gridcolor": "white",
            "gridwidth": 2,
            "linecolor": "white",
            "showbackground": true,
            "ticks": "",
            "zerolinecolor": "white"
           },
           "zaxis": {
            "backgroundcolor": "#E5ECF6",
            "gridcolor": "white",
            "gridwidth": 2,
            "linecolor": "white",
            "showbackground": true,
            "ticks": "",
            "zerolinecolor": "white"
           }
          },
          "shapedefaults": {
           "line": {
            "color": "#2a3f5f"
           }
          },
          "ternary": {
           "aaxis": {
            "gridcolor": "white",
            "linecolor": "white",
            "ticks": ""
           },
           "baxis": {
            "gridcolor": "white",
            "linecolor": "white",
            "ticks": ""
           },
           "bgcolor": "#E5ECF6",
           "caxis": {
            "gridcolor": "white",
            "linecolor": "white",
            "ticks": ""
           }
          },
          "title": {
           "x": 0.05
          },
          "xaxis": {
           "automargin": true,
           "gridcolor": "white",
           "linecolor": "white",
           "ticks": "",
           "title": {
            "standoff": 15
           },
           "zerolinecolor": "white",
           "zerolinewidth": 2
          },
          "yaxis": {
           "automargin": true,
           "gridcolor": "white",
           "linecolor": "white",
           "ticks": "",
           "title": {
            "standoff": 15
           },
           "zerolinecolor": "white",
           "zerolinewidth": 2
          }
         }
        },
        "title": {
         "text": "Ministry-Wise Budget Allocation (2023-2024)"
        }
       }
      },
      "image/png": "[encoded data removed]",
      "text/html": [
       "<div>                            <div id=\"7b65b528-0bed-406b-a092-9bb194a12486\" class=\"plotly-graph-div\" style=\"height:525px; width:100%;\"></div>            <script type=\"text/javascript\">                require([\"plotly\"], function(Plotly) {                    window.PLOTLYENV=window.PLOTLYENV || {};                                    if (document.getElementById(\"7b65b528-0bed-406b-a092-9bb194a12486\")) {                    Plotly.newPlot(                        \"7b65b528-0bed-406b-a092-9bb194a12486\",                        [{\"branchvalues\":\"total\",\"customdata\":[[2.451926910299003],[118.27680856335793],[12752.377422352112],[460.4209101722246],[13.79938793879388],[1.5],[15509.565202418396],[70.17426736357193],[10046.765920274018],[336.160002082156],[14354.691045161202],[5499.9635014234545],[2258.6999480390946],[367.8826071329831],[43.28653281096963],[19449.00323321254],[8956.639279209941],[147.7592190889371],[7181.034291350455],[698.174115755627],[159126.22],[108.93650793650794],[38.961571520205254],[6.881322404371585],[37.96858174412146],[339.3114754098361],[563.6631847295649],[84.01258278145696],[98.42958407147809],[4162.01],[1630.5293238510021],[2706.3831390280666],[33.58591373439273],[550.9924906132666],[161.2],[137.0232775119617],[2042.41],[376.06833261044676],[169.20859080633005],[4758.050097340214],[220.8954237543279],[57995.417271119906]],\"domain\":{\"x\":[0.0,1.0],\"y\":[0.0,1.0]},\"hovertemplate\":\"labels=%{label}\\u003cbr\\u003eTotal Budget 2023-2024_sum=%{value}\\u003cbr\\u003eparent=%{parent}\\u003cbr\\u003eid=%{id}\\u003cbr\\u003eTotal Budget 2023-2024=%{color}\\u003cextra\\u003e\\u003c\\u002fextra\\u003e\",\"ids\":[\"Ministry-Wise Budget\\u002fChandigarh\",\"Ministry-Wise Budget\\u002fDepartment of Agricultural Research and Education\",\"Ministry-Wise Budget\\u002fDepartment of Agriculture and Farmers Welfare\",\"Ministry-Wise Budget\\u002fDepartment of Animal Husbandry and Dairying\",\"Ministry-Wise Budget\\u002fDepartment of Commerce\",\"Ministry-Wise Budget\\u002fDepartment of Consumer Affairs\",\"Ministry-Wise Budget\\u002fDepartment of Drinking Water and Sanitation\",\"Ministry-Wise Budget\\u002fDepartment of Empowerment of Persons with Disabilities\",\"Ministry-Wise Budget\\u002fDepartment of Fertilisers\",\"Ministry-Wise Budget\\u002fDepartment of Fisheries\",\"Ministry-Wise Budget\\u002fDepartment of Food and Public Distribution\",\"Ministry-Wise Budget\\u002fDepartment of Health and Family Welfare\",\"Ministry-Wise Budget\\u002fDepartment of Higher Education\",\"Ministry-Wise Budget\\u002fDepartment of Land Resources\",\"Ministry-Wise Budget\\u002fDepartment of Pharmaceuticals\",\"Ministry-Wise Budget\\u002fDepartment of Rural Development\",\"Ministry-Wise Budget\\u002fDepartment of School Education and Literacy\",\"Ministry-Wise Budget\\u002fDepartment of Science and Technology\",\"Ministry-Wise Budget\\u002fDepartment of Social Justice and Empowerment\",\"Ministry-Wise Budget\\u002fDepartment of Telecommunications\",\"Ministry-Wise Budget\\u002fGrand Total\",\"Ministry-Wise Budget\\u002fMinistry of Ayush\",\"Ministry-Wise Budget\\u002fMinistry of Coal\",\"Ministry-Wise Budget\\u002fMinistry of Cooperation\",\"Ministry-Wise Budget\\u002fMinistry of Culture\",\"Ministry-Wise Budget\\u002fMinistry of Development of North Eastern Region\",\"Ministry-Wise Budget\\u002fMinistry of Electronics and Information Technology\",\"Ministry-Wise Budget\\u002fMinistry of Environment, Forests and Climate Change\",\"Ministry-Wise Budget\\u002fMinistry of Food Processing Industries\",\"Ministry-Wise Budget\\u002fMinistry of Housing and Urban Affairs\",\"Ministry-Wise Budget\\u002fMinistry of Labour and Employment\",\"Ministry-Wise Budget\\u002fMinistry of Micro, Small and Medium Enterprises\",\"Ministry-Wise Budget\\u002fMinistry of Mines\",\"Ministry-Wise Budget\\u002fMinistry of New and Renewable Energy\",\"Ministry-Wise Budget\\u002fMinistry of Panchayati Raj\",\"Ministry-Wise Budget\\u002fMinistry of Petroleum and Natural Gas\",\"Ministry-Wise Budget\\u002fMinistry of Power\",\"Ministry-Wise Budget\\u002fMinistry of Skill Development and Entrepreneurship\",\"Ministry-Wise Budget\\u002fMinistry of Textiles\",\"Ministry-Wise Budget\\u002fMinistry of Women and Child Development\",\"Ministry-Wise Budget\\u002fMinistry of Youth Affairs and Sports\",\"Ministry-Wise Budget\"],\"labels\":[\"Chandigarh\",\"Department of Agricultural Research and Education\",\"Department of Agriculture and Farmers Welfare\",\"Department of Animal Husbandry and Dairying\",\"Department of Commerce\",\"Department of Consumer Affairs\",\"Department of Drinking Water and Sanitation\",\"Department of Empowerment of Persons with Disabilities\",\"Department of Fertilisers\",\"Department of Fisheries\",\"Department of Food and Public Distribution\",\"Department of Health and Family Welfare\",\"Department of Higher Education\",\"Department of Land Resources\",\"Department of Pharmaceuticals\",\"Department of Rural Development\",\"Department of School Education and Literacy\",\"Department of Science and Technology\",\"Department of Social Justice and Empowerment\",\"Department of Telecommunications\",\"Grand Total\",\"Ministry of Ayush\",\"Ministry of Coal\",\"Ministry of Cooperation\",\"Ministry of Culture\",\"Ministry of Development of North Eastern Region\",\"Ministry of Electronics and Information Technology\",\"Ministry of Environment, Forests and Climate Change\",\"Ministry of Food Processing Industries\",\"Ministry of Housing and Urban Affairs\",\"Ministry of Labour and Employment\",\"Ministry of Micro, Small and Medium Enterprises\",\"Ministry of Mines\",\"Ministry of New and Renewable Energy\",\"Ministry of Panchayati Raj\",\"Ministry of Petroleum and Natural Gas\",\"Ministry of Power\",\"Ministry of Skill Development and Entrepreneurship\",\"Ministry of Textiles\",\"Ministry of Women and Child Development\",\"Ministry of Youth Affairs and Sports\",\"Ministry-Wise Budget\"],\"marker\":{\"coloraxis\":\"coloraxis\",\"colors\":[2.451926910299003,118.27680856335793,12752.377422352112,460.4209101722246,13.79938793879388,1.5,15509.565202418396,70.17426736357193,10046.765920274018,336.160002082156,14354.691045161202,5499.9635014234545,2258.6999480390946,367.8826071329831,43.28653281096963,19449.00323321254,8956.639279209941,147.7592190889371,7181.034291350455,698.174115755627,159126.22,108.93650793650794,38.961571520205254,6.881322404371585,37.96858174412146,339.3114754098361,563.6631847295649,84.01258278145696,98.42958407147809,4162.01,1630.5293238510021,2706.3831390280666,33.58591373439273,550.9924906132666,161.2,137.0232775119617,2042.41,376.06833261044676,169.20859080633005,4758.050097340214,220.8954237543279,57995.417271119906]},\"name\":\"\",\"parents\":[\"Ministry-Wise Budget\",\"Ministry-Wise Budget\",\"Ministry-Wise Budget\",\"Ministry-Wise Budget\",\"Ministry-Wise Budget\",\"Ministry-Wise Budget\",\"Ministry-Wise Budget\",\"Ministry-Wise Budget\",\"Ministry-Wise Budget\",\"Ministry-Wise Budget\",\"Ministry-Wise Budget\",\"Ministry-Wise Budget\",\"Ministry-Wise Budget\",\"Ministry-Wise Budget\",\"Ministry-Wise Budget\",\"Ministry-Wise Budget\",\"Ministry-Wise Budget\",\"Ministry-Wise Budget\",\"Ministry-Wise Budget\",\"Ministry-Wise Budget\",\"Ministry-Wise Budget\",\"Ministry-Wise Budget\",\"Ministry-Wise Budget\",\"Ministry-Wise Budget\",\"Ministry-Wise Budget\",\"Ministry-Wise Budget\",\"Ministry-Wise Budget\",\"Ministry-Wise Budget\",\"Ministry-Wise Budget\",\"Ministry-Wise Budget\",\"Ministry-Wise Budget\",\"Ministry-Wise Budget\",\"Ministry-Wise Budget\",\"Ministry-Wise Budget\",\"Ministry-Wise Budget\",\"Ministry-Wise Budget\",\"Ministry-Wise Budget\",\"Ministry-Wise Budget\",\"Ministry-Wise Budget\",\"Ministry-Wise Budget\",\"Ministry-Wise Budget\",\"\"],\"values\":[6.02,403.58,37789.18,1631.01,44.44,3.0,33509.8,225.76,44586.72,672.38,37386.96,24862.059999999998,8083.0,795.74,102.1,60518.23,25752.02,461.0,20692.88,2581.3,159126.22,252.0,93.54,18.3,108.02,976.0,2754.08,377.5,259.66,8324.02,4128.38,7364.7,70.48,1598.0,322.4,300.96,4084.82,968.34,530.8,10076.0,664.3000000000001,502505.7],\"type\":\"treemap\",\"root\":{\"color\":\"white\"}}],                        {\"template\":{\"data\":{\"histogram2dcontour\":[{\"type\":\"histogram2dcontour\",\"colorbar\":{\"outlinewidth\":0,\"ticks\":\"\"},\"colorscale\":[[0.0,\"#0d0887\"],[0.1111111111111111,\"#46039f\"],[0.2222222222222222,\"#7201a8\"],[0.3333333333333333,\"#9c179e\"],[0.4444444444444444,\"#bd3786\"],[0.5555555555555556,\"#d8576b\"],[0.6666666666666666,\"#ed7953\"],[0.7777777777777778,\"#fb9f3a\"],[0.8888888888888888,\"#fdca26\"],[1.0,\"#f0f921\"]]}],\"choropleth\":[{\"type\":\"choropleth\",\"colorbar\":{\"outlinewidth\":0,\"ticks\":\"\"}}],\"histogram2d\":[{\"type\":\"histogram2d\",\"colorbar\":{\"outlinewidth\":0,\"ticks\":\"\"},\"colorscale\":[[0.0,\"#0d0887\"],[0.1111111111111111,\"#46039f\"],[0.2222222222222222,\"#7201a8\"],[0.3333333333333333,\"#9c179e\"],[0.4444444444444444,\"#bd3786\"],[0.5555555555555556,\"#d8576b\"],[0.6666666666666666,\"#ed7953\"],[0.7777777777777778,\"#fb9f3a\"],[0.8888888888888888,\"#fdca26\"],[1.0,\"#f0f921\"]]}],\"heatmap\":[{\"type\":\"heatmap\",\"colorbar\":{\"outlinewidth\":0,\"ticks\":\"\"},\"colorscale\":[[0.0,\"#0d0887\"],[0.1111111111111111,\"#46039f\"],[0.2222222222222222,\"#7201a8\"],[0.3333333333333333,\"#9c179e\"],[0.4444444444444444,\"#bd3786\"],[0.5555555555555556,\"#d8576b\"],[0.6666666666666666,\"#ed7953\"],[0.7777777777777778,\"#fb9f3a\"],[0.8888888888888888,\"#fdca26\"],[1.0,\"#f0f921\"]]}],\"heatmapgl\":[{\"type\":\"heatmapgl\",\"colorbar\":{\"outlinewidth\":0,\"ticks\":\"\"},\"colorscale\":[[0.0,\"#0d0887\"],[0.1111111111111111,\"#46039f\"],[0.2222222222222222,\"#7201a8\"],[0.3333333333333333,\"#9c179e\"],[0.4444444444444444,\"#bd3786\"],[0.5555555555555556,\"#d8576b\"],[0.6666666666666666,\"#ed7953\"],[0.7777777777777778,\"#fb9f3a\"],[0.8888888888888888,\"#fdca26\"],[1.0,\"#f0f921\"]]}],\"contourcarpet\":[{\"type\":\"contourcarpet\",\"colorbar\":{\"outlinewidth\":0,\"ticks\":\"\"}}],\"contour\":[{\"type\":\"contour\",\"colorbar\":{\"outlinewidth\":0,\"ticks\":\"\"},\"colorscale\":[[0.0,\"#0d0887\"],[0.1111111111111111,\"#46039f\"],[0.2222222222222222,\"#7201a8\"],[0.3333333333333333,\"#9c179e\"],[0.4444444444444444,\"#bd3786\"],[0.5555555555555556,\"#d8576b\"],[0.6666666666666666,\"#ed7953\"],[0.7777777777777778,\"#fb9f3a\"],[0.8888888888888888,\"#fdca26\"],[1.0,\"#f0f921\"]]}],\"surface\":[{\"type\":\"surface\",\"colorbar\":{\"outlinewidth\":0,\"ticks\":\"\"},\"colorscale\":[[0.0,\"#0d0887\"],[0.1111111111111111,\"#46039f\"],[0.2222222222222222,\"#7201a8\"],[0.3333333333333333,\"#9c179e\"],[0.4444444444444444,\"#bd3786\"],[0.5555555555555556,\"#d8576b\"],[0.6666666666666666,\"#ed7953\"],[0.7777777777777778,\"#fb9f3a\"],[0.8888888888888888,\"#fdca26\"],[1.0,\"#f0f921\"]]}],\"mesh3d\":[{\"type\":\"mesh3d\",\"colorbar\":{\"outlinewidth\":0,\"ticks\":\"\"}}],\"scatter\":[{\"fillpattern\":{\"fillmode\":\"overlay\",\"size\":10,\"solidity\":0.2},\"type\":\"scatter\"}],\"parcoords\":[{\"type\":\"parcoords\",\"line\":{\"colorbar\":{\"outlinewidth\":0,\"ticks\":\"\"}}}],\"scatterpolargl\":[{\"type\":\"scatterpolargl\",\"marker\":{\"colorbar\":{\"outlinewidth\":0,\"ticks\":\"\"}}}],\"bar\":[{\"error_x\":{\"color\":\"#2a3f5f\"},\"error_y\":{\"color\":\"#2a3f5f\"},\"marker\":{\"line\":{\"color\":\"#E5ECF6\",\"width\":0.5},\"pattern\":{\"fillmode\":\"overlay\",\"size\":10,\"solidity\":0.2}},\"type\":\"bar\"}],\"scattergeo\":[{\"type\":\"scattergeo\",\"marker\":{\"colorbar\":{\"outlinewidth\":0,\"ticks\":\"\"}}}],\"scatterpolar\":[{\"type\":\"scatterpolar\",\"marker\":{\"colorbar\":{\"outlinewidth\":0,\"ticks\":\"\"}}}],\"histogram\":[{\"marker\":{\"pattern\":{\"fillmode\":\"overlay\",\"size\":10,\"solidity\":0.2}},\"type\":\"histogram\"}],\"scattergl\":[{\"type\":\"scattergl\",\"marker\":{\"colorbar\":{\"outlinewidth\":0,\"ticks\":\"\"}}}],\"scatter3d\":[{\"type\":\"scatter3d\",\"line\":{\"colorbar\":{\"outlinewidth\":0,\"ticks\":\"\"}},\"marker\":{\"colorbar\":{\"outlinewidth\":0,\"ticks\":\"\"}}}],\"scattermapbox\":[{\"type\":\"scattermapbox\",\"marker\":{\"colorbar\":{\"outlinewidth\":0,\"ticks\":\"\"}}}],\"scatterternary\":[{\"type\":\"scatterternary\",\"marker\":{\"colorbar\":{\"outlinewidth\":0,\"ticks\":\"\"}}}],\"scattercarpet\":[{\"type\":\"scattercarpet\",\"marker\":{\"colorbar\":{\"outlinewidth\":0,\"ticks\":\"\"}}}],\"carpet\":[{\"aaxis\":{\"endlinecolor\":\"#2a3f5f\",\"gridcolor\":\"white\",\"linecolor\":\"white\",\"minorgridcolor\":\"white\",\"startlinecolor\":\"#2a3f5f\"},\"baxis\":{\"endlinecolor\":\"#2a3f5f\",\"gridcolor\":\"white\",\"linecolor\":\"white\",\"minorgridcolor\":\"white\",\"startlinecolor\":\"#2a3f5f\"},\"type\":\"carpet\"}],\"table\":[{\"cells\":{\"fill\":{\"color\":\"#EBF0F8\"},\"line\":{\"color\":\"white\"}},\"header\":{\"fill\":{\"color\":\"#C8D4E3\"},\"line\":{\"color\":\"white\"}},\"type\":\"table\"}],\"barpolar\":[{\"marker\":{\"line\":{\"color\":\"#E5ECF6\",\"width\":0.5},\"pattern\":{\"fillmode\":\"overlay\",\"size\":10,\"solidity\":0.2}},\"type\":\"barpolar\"}],\"pie\":[{\"automargin\":true,\"type\":\"pie\"}]},\"layout\":{\"autotypenumbers\":\"strict\",\"colorway\":[\"#636efa\",\"#EF553B\",\"#00cc96\",\"#ab63fa\",\"#FFA15A\",\"#19d3f3\",\"#FF6692\",\"#B6E880\",\"#FF97FF\",\"#FECB52\"],\"font\":{\"color\":\"#2a3f5f\"},\"hovermode\":\"closest\",\"hoverlabel\":{\"align\":\"left\"},\"paper_bgcolor\":\"white\",\"plot_bgcolor\":\"#E5ECF6\",\"polar\":{\"bgcolor\":\"#E5ECF6\",\"angularaxis\":{\"gridcolor\":\"white\",\"linecolor\":\"white\",\"ticks\":\"\"},\"radialaxis\":{\"gridcolor\":\"white\",\"linecolor\":\"white\",\"ticks\":\"\"}},\"ternary\":{\"bgcolor\":\"#E5ECF6\",\"aaxis\":{\"gridcolor\":\"white\",\"linecolor\":\"white\",\"ticks\":\"\"},\"baxis\":{\"gridcolor\":\"white\",\"linecolor\":\"white\",\"ticks\":\"\"},\"caxis\":{\"gridcolor\":\"white\",\"linecolor\":\"white\",\"ticks\":\"\"}},\"coloraxis\":{\"colorbar\":{\"outlinewidth\":0,\"ticks\":\"\"}},\"colorscale\":{\"sequential\":[[0.0,\"#0d0887\"],[0.1111111111111111,\"#46039f\"],[0.2222222222222222,\"#7201a8\"],[0.3333333333333333,\"#9c179e\"],[0.4444444444444444,\"#bd3786\"],[0.5555555555555556,\"#d8576b\"],[0.6666666666666666,\"#ed7953\"],[0.7777777777777778,\"#fb9f3a\"],[0.8888888888888888,\"#fdca26\"],[1.0,\"#f0f921\"]],\"sequentialminus\":[[0.0,\"#0d0887\"],[0.1111111111111111,\"#46039f\"],[0.2222222222222222,\"#7201a8\"],[0.3333333333333333,\"#9c179e\"],[0.4444444444444444,\"#bd3786\"],[0.5555555555555556,\"#d8576b\"],[0.6666666666666666,\"#ed7953\"],[0.7777777777777778,\"#fb9f3a\"],[0.8888888888888888,\"#fdca26\"],[1.0,\"#f0f921\"]],\"diverging\":[[0,\"#8e0152\"],[0.1,\"#c51b7d\"],[0.2,\"#de77ae\"],[0.3,\"#f1b6da\"],[0.4,\"#fde0ef\"],[0.5,\"#f7f7f7\"],[0.6,\"#e6f5d0\"],[0.7,\"#b8e186\"],[0.8,\"#7fbc41\"],[0.9,\"#4d9221\"],[1,\"#276419\"]]},\"xaxis\":{\"gridcolor\":\"white\",\"linecolor\":\"white\",\"ticks\":\"\",\"title\":{\"standoff\":15},\"zerolinecolor\":\"white\",\"automargin\":true,\"zerolinewidth\":2},\"yaxis\":{\"gridcolor\":\"white\",\"linecolor\":\"white\",\"ticks\":\"\",\"title\":{\"standoff\":15},\"zerolinecolor\":\"white\",\"automargin\":true,\"zerolinewidth\":2},\"scene\":{\"xaxis\":{\"backgroundcolor\":\"#E5ECF6\",\"gridcolor\":\"white\",\"linecolor\":\"white\",\"showbackground\":true,\"ticks\":\"\",\"zerolinecolor\":\"white\",\"gridwidth\":2},\"yaxis\":{\"backgroundcolor\":\"#E5ECF6\",\"gridcolor\":\"white\",\"linecolor\":\"white\",\"showbackground\":true,\"ticks\":\"\",\"zerolinecolor\":\"white\",\"gridwidth\":2},\"zaxis\":{\"backgroundcolor\":\"#E5ECF6\",\"gridcolor\":\"white\",\"linecolor\":\"white\",\"showbackground\":true,\"ticks\":\"\",\"zerolinecolor\":\"white\",\"gridwidth\":2}},\"shapedefaults\":{\"line\":{\"color\":\"#2a3f5f\"}},\"annotationdefaults\":{\"arrowcolor\":\"#2a3f5f\",\"arrowhead\":0,\"arrowwidth\":1},\"geo\":{\"bgcolor\":\"white\",\"landcolor\":\"#E5ECF6\",\"subunitcolor\":\"white\",\"showland\":true,\"showlakes\":true,\"lakecolor\":\"white\"},\"title\":{\"x\":0.05},\"mapbox\":{\"style\":\"light\"}}},\"coloraxis\":{\"colorbar\":{\"title\":{\"text\":\"Total Budget 2023-2024\"}},\"colorscale\":[[0.0,\"rgb(247,251,255)\"],[0.125,\"rgb(222,235,247)\"],[0.25,\"rgb(198,219,239)\"],[0.375,\"rgb(158,202,225)\"],[0.5,\"rgb(107,174,214)\"],[0.625,\"rgb(66,146,198)\"],[0.75,\"rgb(33,113,181)\"],[0.875,\"rgb(8,81,156)\"],[1.0,\"rgb(8,48,107)\"]]},\"legend\":{\"tracegroupgap\":0},\"title\":{\"text\":\"Ministry-Wise Budget Allocation (2023-2024)\"}},                        {\"responsive\": true}                    ).then(function(){\n",
       "                            \n",
       "var gd = document.getElementById('7b65b528-0bed-406b-a092-9bb194a12486');\n",
       "var x = new MutationObserver(function (mutations, observer) {{\n",
       "        var display = window.getComputedStyle(gd).display;\n",
       "        if (!display || display === 'none') {{\n",
       "            console.log([gd, 'removed!']);\n",
       "            Plotly.purge(gd);\n",
       "            observer.disconnect();\n",
       "        }}\n",
       "}});\n",
       "\n",
       "// Listen for the removal of the full notebook cells\n",
       "var notebookContainer = gd.closest('#notebook-container');\n",
       "if (notebookContainer) {{\n",
       "    x.observe(notebookContainer, {childList: true});\n",
       "}}\n",
       "\n",
       "// Listen for the clearing of the current output cell\n",
       "var outputEl = gd.closest('.output');\n",
       "if (outputEl) {{\n",
       "    x.observe(outputEl, {childList: true});\n",
       "}}\n",
       "\n",
       "                        })                };                });            </script>        </div>"
      ]
     },
     "metadata": {},
     "output_type": "display_data"
    }
   ],
   "source": [
    "df8 = pd.read_csv(\"Union_Budget.csv\")\n",
    "\n",
    "# Handling missing values (if any)\n",
    "df8.fillna(0, inplace=True)\n",
    "\n",
    "# Creating a new column for Total Budget Allocation\n",
    "df8[\"Total Budget 2023-2024\"] = df8[\"Budget Estimates2023-2024 Revenue\"] + df8[\"Budget Estimates2023-2024 Capital\"]\n",
    "\n",
    "# Creating the Treemap without a root (avoiding grand total)\n",
    "fig = px.treemap(\n",
    "    df8, \n",
    "    path=[px.Constant(\"Ministry-Wise Budget\"), \"Ministry/Department\"],  # Adds a virtual root to avoid full rectangle\n",
    "    values=\"Total Budget 2023-2024\",  # Size based on total budget\n",
    "    color=\"Total Budget 2023-2024\",  # Color by budget allocation\n",
    "    color_continuous_scale=\"blues\",  # Use a blue gradient for clarity\n",
    "    title=\"Ministry-Wise Budget Allocation (2023-2024)\"\n",
    ")\n",
    "fig.update_traces(root_color=\"white\")  \n",
    "\n",
    "\n",
    "fig.show()\n"
   ]
  },
  {
   "cell_type": "code",
   "execution_count": null,
   "id": "ad6bf004-fda7-4962-b4b5-1287576fc5f4",
   "metadata": {},
   "outputs": [],
   "source": []
  },
  {
   "cell_type": "code",
   "execution_count": null,
   "id": "e7c53ca2-b05a-4839-9d72-51ed7f0de783",
   "metadata": {},
   "outputs": [],
   "source": []
  }
 ],
 "metadata": {
  "kernelspec": {
   "display_name": "Python 3 (ipykernel)",
   "language": "python",
   "name": "python3"
  },
  "language_info": {
   "codemirror_mode": {
    "name": "ipython",
    "version": 3
   },
   "file_extension": ".py",
   "mimetype": "text/x-python",
   "name": "python",
   "nbconvert_exporter": "python",
   "pygments_lexer": "ipython3",
   "version": "3.12.7"
  }
 },
 "nbformat": 4,
 "nbformat_minor": 5
}
